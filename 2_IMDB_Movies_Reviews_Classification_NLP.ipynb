{
  "nbformat": 4,
  "nbformat_minor": 0,
  "metadata": {
    "colab": {
      "name": "2_Yelp_Restaurant_Reviews_Classification_NLP.ipynb",
      "provenance": [],
      "collapsed_sections": [
        "---BQ4m9GKGt",
        "XaFwQxpl9lBR",
        "2KxoJwf6_PdD",
        "EhhKtqtlC5j9",
        "eZuXxKUJDjx7",
        "WHXHcZkODvVo",
        "gxlRETSBD9T4",
        "dGhP_mwWE7R5",
        "R6sNB5iXFMK0",
        "ZMUEO82JFiMr",
        "415pjfw9FzrY",
        "tnx42dZtGef7",
        "00Q_DRDmG8fK"
      ]
    },
    "kernelspec": {
      "name": "python3",
      "display_name": "Python 3"
    },
    "language_info": {
      "name": "python"
    },
    "accelerator": "GPU",
    "gpuClass": "standard"
  },
  "cells": [
    {
      "cell_type": "markdown",
      "source": [
        "# Downloading Data"
      ],
      "metadata": {
        "id": "---BQ4m9GKGt"
      }
    },
    {
      "cell_type": "code",
      "execution_count": 1,
      "metadata": {
        "id": "JGET5XcK2wjj"
      },
      "outputs": [],
      "source": [
        "from google.colab import drive"
      ]
    },
    {
      "cell_type": "code",
      "source": [
        "drive.mount('/drive')"
      ],
      "metadata": {
        "colab": {
          "base_uri": "https://localhost:8080/"
        },
        "id": "ZhqOXy1n255B",
        "outputId": "939be77d-575a-437e-f5e8-edd4b3b5dfea"
      },
      "execution_count": 2,
      "outputs": [
        {
          "output_type": "stream",
          "name": "stdout",
          "text": [
            "Mounted at /drive\n"
          ]
        }
      ]
    },
    {
      "cell_type": "code",
      "source": [
        "import pandas as pd\n",
        "# Download helper functions script\n",
        "!wget https://raw.githubusercontent.com/mrdbourke/tensorflow-deep-learning/main/extras/helper_functions.py\n",
        "\n",
        "# Import series of helper functions for the notebook\n",
        "from helper_functions import unzip_data, create_tensorboard_callback, plot_loss_curves, compare_historys"
      ],
      "metadata": {
        "colab": {
          "base_uri": "https://localhost:8080/"
        },
        "id": "nyKNtHw927Gm",
        "outputId": "7457fe05-41ea-493d-ceb7-3824834283b0"
      },
      "execution_count": 3,
      "outputs": [
        {
          "output_type": "stream",
          "name": "stdout",
          "text": [
            "--2022-06-23 21:35:06--  https://raw.githubusercontent.com/mrdbourke/tensorflow-deep-learning/main/extras/helper_functions.py\n",
            "Resolving raw.githubusercontent.com (raw.githubusercontent.com)... 185.199.108.133, 185.199.109.133, 185.199.110.133, ...\n",
            "Connecting to raw.githubusercontent.com (raw.githubusercontent.com)|185.199.108.133|:443... connected.\n",
            "HTTP request sent, awaiting response... 200 OK\n",
            "Length: 10246 (10K) [text/plain]\n",
            "Saving to: ‘helper_functions.py’\n",
            "\n",
            "helper_functions.py 100%[===================>]  10.01K  --.-KB/s    in 0s      \n",
            "\n",
            "2022-06-23 21:35:07 (91.5 MB/s) - ‘helper_functions.py’ saved [10246/10246]\n",
            "\n"
          ]
        }
      ]
    },
    {
      "cell_type": "code",
      "source": [
        "imdb_data = pd.read_csv('/drive/MyDrive/NLP Datasets/IMDB Dataset.csv')"
      ],
      "metadata": {
        "id": "OnjmaiZC3DQf"
      },
      "execution_count": 4,
      "outputs": []
    },
    {
      "cell_type": "code",
      "source": [
        "imdb_data.shape"
      ],
      "metadata": {
        "colab": {
          "base_uri": "https://localhost:8080/"
        },
        "id": "GG_Zj1yo3KEL",
        "outputId": "fb24b676-e882-4b6c-db27-65608b816616"
      },
      "execution_count": 5,
      "outputs": [
        {
          "output_type": "execute_result",
          "data": {
            "text/plain": [
              "(50000, 2)"
            ]
          },
          "metadata": {},
          "execution_count": 5
        }
      ]
    },
    {
      "cell_type": "code",
      "source": [
        "imdb_data.head(5)"
      ],
      "metadata": {
        "colab": {
          "base_uri": "https://localhost:8080/",
          "height": 0
        },
        "id": "oXR7b1Rv3XDC",
        "outputId": "c3669587-ea83-4eba-ffa6-e1b3daa31018"
      },
      "execution_count": 6,
      "outputs": [
        {
          "output_type": "execute_result",
          "data": {
            "text/plain": [
              "                                              review sentiment\n",
              "0  One of the other reviewers has mentioned that ...  positive\n",
              "1  A wonderful little production. <br /><br />The...  positive\n",
              "2  I thought this was a wonderful way to spend ti...  positive\n",
              "3  Basically there's a family where a little boy ...  negative\n",
              "4  Petter Mattei's \"Love in the Time of Money\" is...  positive"
            ],
            "text/html": [
              "\n",
              "  <div id=\"df-f0e1d048-616d-4b7a-99fd-79c937f86343\">\n",
              "    <div class=\"colab-df-container\">\n",
              "      <div>\n",
              "<style scoped>\n",
              "    .dataframe tbody tr th:only-of-type {\n",
              "        vertical-align: middle;\n",
              "    }\n",
              "\n",
              "    .dataframe tbody tr th {\n",
              "        vertical-align: top;\n",
              "    }\n",
              "\n",
              "    .dataframe thead th {\n",
              "        text-align: right;\n",
              "    }\n",
              "</style>\n",
              "<table border=\"1\" class=\"dataframe\">\n",
              "  <thead>\n",
              "    <tr style=\"text-align: right;\">\n",
              "      <th></th>\n",
              "      <th>review</th>\n",
              "      <th>sentiment</th>\n",
              "    </tr>\n",
              "  </thead>\n",
              "  <tbody>\n",
              "    <tr>\n",
              "      <th>0</th>\n",
              "      <td>One of the other reviewers has mentioned that ...</td>\n",
              "      <td>positive</td>\n",
              "    </tr>\n",
              "    <tr>\n",
              "      <th>1</th>\n",
              "      <td>A wonderful little production. &lt;br /&gt;&lt;br /&gt;The...</td>\n",
              "      <td>positive</td>\n",
              "    </tr>\n",
              "    <tr>\n",
              "      <th>2</th>\n",
              "      <td>I thought this was a wonderful way to spend ti...</td>\n",
              "      <td>positive</td>\n",
              "    </tr>\n",
              "    <tr>\n",
              "      <th>3</th>\n",
              "      <td>Basically there's a family where a little boy ...</td>\n",
              "      <td>negative</td>\n",
              "    </tr>\n",
              "    <tr>\n",
              "      <th>4</th>\n",
              "      <td>Petter Mattei's \"Love in the Time of Money\" is...</td>\n",
              "      <td>positive</td>\n",
              "    </tr>\n",
              "  </tbody>\n",
              "</table>\n",
              "</div>\n",
              "      <button class=\"colab-df-convert\" onclick=\"convertToInteractive('df-f0e1d048-616d-4b7a-99fd-79c937f86343')\"\n",
              "              title=\"Convert this dataframe to an interactive table.\"\n",
              "              style=\"display:none;\">\n",
              "        \n",
              "  <svg xmlns=\"http://www.w3.org/2000/svg\" height=\"24px\"viewBox=\"0 0 24 24\"\n",
              "       width=\"24px\">\n",
              "    <path d=\"M0 0h24v24H0V0z\" fill=\"none\"/>\n",
              "    <path d=\"M18.56 5.44l.94 2.06.94-2.06 2.06-.94-2.06-.94-.94-2.06-.94 2.06-2.06.94zm-11 1L8.5 8.5l.94-2.06 2.06-.94-2.06-.94L8.5 2.5l-.94 2.06-2.06.94zm10 10l.94 2.06.94-2.06 2.06-.94-2.06-.94-.94-2.06-.94 2.06-2.06.94z\"/><path d=\"M17.41 7.96l-1.37-1.37c-.4-.4-.92-.59-1.43-.59-.52 0-1.04.2-1.43.59L10.3 9.45l-7.72 7.72c-.78.78-.78 2.05 0 2.83L4 21.41c.39.39.9.59 1.41.59.51 0 1.02-.2 1.41-.59l7.78-7.78 2.81-2.81c.8-.78.8-2.07 0-2.86zM5.41 20L4 18.59l7.72-7.72 1.47 1.35L5.41 20z\"/>\n",
              "  </svg>\n",
              "      </button>\n",
              "      \n",
              "  <style>\n",
              "    .colab-df-container {\n",
              "      display:flex;\n",
              "      flex-wrap:wrap;\n",
              "      gap: 12px;\n",
              "    }\n",
              "\n",
              "    .colab-df-convert {\n",
              "      background-color: #E8F0FE;\n",
              "      border: none;\n",
              "      border-radius: 50%;\n",
              "      cursor: pointer;\n",
              "      display: none;\n",
              "      fill: #1967D2;\n",
              "      height: 32px;\n",
              "      padding: 0 0 0 0;\n",
              "      width: 32px;\n",
              "    }\n",
              "\n",
              "    .colab-df-convert:hover {\n",
              "      background-color: #E2EBFA;\n",
              "      box-shadow: 0px 1px 2px rgba(60, 64, 67, 0.3), 0px 1px 3px 1px rgba(60, 64, 67, 0.15);\n",
              "      fill: #174EA6;\n",
              "    }\n",
              "\n",
              "    [theme=dark] .colab-df-convert {\n",
              "      background-color: #3B4455;\n",
              "      fill: #D2E3FC;\n",
              "    }\n",
              "\n",
              "    [theme=dark] .colab-df-convert:hover {\n",
              "      background-color: #434B5C;\n",
              "      box-shadow: 0px 1px 3px 1px rgba(0, 0, 0, 0.15);\n",
              "      filter: drop-shadow(0px 1px 2px rgba(0, 0, 0, 0.3));\n",
              "      fill: #FFFFFF;\n",
              "    }\n",
              "  </style>\n",
              "\n",
              "      <script>\n",
              "        const buttonEl =\n",
              "          document.querySelector('#df-f0e1d048-616d-4b7a-99fd-79c937f86343 button.colab-df-convert');\n",
              "        buttonEl.style.display =\n",
              "          google.colab.kernel.accessAllowed ? 'block' : 'none';\n",
              "\n",
              "        async function convertToInteractive(key) {\n",
              "          const element = document.querySelector('#df-f0e1d048-616d-4b7a-99fd-79c937f86343');\n",
              "          const dataTable =\n",
              "            await google.colab.kernel.invokeFunction('convertToInteractive',\n",
              "                                                     [key], {});\n",
              "          if (!dataTable) return;\n",
              "\n",
              "          const docLinkHtml = 'Like what you see? Visit the ' +\n",
              "            '<a target=\"_blank\" href=https://colab.research.google.com/notebooks/data_table.ipynb>data table notebook</a>'\n",
              "            + ' to learn more about interactive tables.';\n",
              "          element.innerHTML = '';\n",
              "          dataTable['output_type'] = 'display_data';\n",
              "          await google.colab.output.renderOutput(dataTable, element);\n",
              "          const docLink = document.createElement('div');\n",
              "          docLink.innerHTML = docLinkHtml;\n",
              "          element.appendChild(docLink);\n",
              "        }\n",
              "      </script>\n",
              "    </div>\n",
              "  </div>\n",
              "  "
            ]
          },
          "metadata": {},
          "execution_count": 6
        }
      ]
    },
    {
      "cell_type": "code",
      "source": [
        "# How many examples of each class?\n",
        "imdb_data.sentiment.value_counts()"
      ],
      "metadata": {
        "colab": {
          "base_uri": "https://localhost:8080/"
        },
        "id": "YYowEU8y3b9k",
        "outputId": "48f3628b-84eb-49ff-cf78-7ceed80f609e"
      },
      "execution_count": 7,
      "outputs": [
        {
          "output_type": "execute_result",
          "data": {
            "text/plain": [
              "positive    25000\n",
              "negative    25000\n",
              "Name: sentiment, dtype: int64"
            ]
          },
          "metadata": {},
          "execution_count": 7
        }
      ]
    },
    {
      "cell_type": "markdown",
      "source": [
        "# Handling categorical column"
      ],
      "metadata": {
        "id": "XaFwQxpl9lBR"
      }
    },
    {
      "cell_type": "code",
      "source": [
        "imdb_data.dtypes"
      ],
      "metadata": {
        "colab": {
          "base_uri": "https://localhost:8080/"
        },
        "id": "EHXo38iw3nxm",
        "outputId": "9bc3389b-7872-4c62-cab0-b60b831061ab"
      },
      "execution_count": 8,
      "outputs": [
        {
          "output_type": "execute_result",
          "data": {
            "text/plain": [
              "review       object\n",
              "sentiment    object\n",
              "dtype: object"
            ]
          },
          "metadata": {},
          "execution_count": 8
        }
      ]
    },
    {
      "cell_type": "markdown",
      "source": [
        "We are gonna explore multiple methods of converting categorical columns to numerical ones."
      ],
      "metadata": {
        "id": "6GIdORTB9qTi"
      }
    },
    {
      "cell_type": "markdown",
      "source": [
        "## Method 1"
      ],
      "metadata": {
        "id": "i4lPpDNU90ZV"
      }
    },
    {
      "cell_type": "code",
      "source": [
        "cats = {\"sentiment\":{\n",
        "    \"positive\":1,\n",
        "    \"negative\":0\n",
        "}}"
      ],
      "metadata": {
        "id": "bCN12PtX34T4"
      },
      "execution_count": 9,
      "outputs": []
    },
    {
      "cell_type": "code",
      "source": [
        "imdb_catcoded_1 = imdb_data.replace(cats)"
      ],
      "metadata": {
        "id": "3unHvxmW4-4s"
      },
      "execution_count": 10,
      "outputs": []
    },
    {
      "cell_type": "code",
      "source": [
        "imdb_catcoded_1.head(5)"
      ],
      "metadata": {
        "colab": {
          "base_uri": "https://localhost:8080/",
          "height": 0
        },
        "id": "zGtfS9i95IxD",
        "outputId": "c9af54f3-88ff-4632-d6ee-4c7ea7c0ff2e"
      },
      "execution_count": 11,
      "outputs": [
        {
          "output_type": "execute_result",
          "data": {
            "text/plain": [
              "                                              review  sentiment\n",
              "0  One of the other reviewers has mentioned that ...          1\n",
              "1  A wonderful little production. <br /><br />The...          1\n",
              "2  I thought this was a wonderful way to spend ti...          1\n",
              "3  Basically there's a family where a little boy ...          0\n",
              "4  Petter Mattei's \"Love in the Time of Money\" is...          1"
            ],
            "text/html": [
              "\n",
              "  <div id=\"df-b5494c44-57b8-4459-b5b6-40e75d383f44\">\n",
              "    <div class=\"colab-df-container\">\n",
              "      <div>\n",
              "<style scoped>\n",
              "    .dataframe tbody tr th:only-of-type {\n",
              "        vertical-align: middle;\n",
              "    }\n",
              "\n",
              "    .dataframe tbody tr th {\n",
              "        vertical-align: top;\n",
              "    }\n",
              "\n",
              "    .dataframe thead th {\n",
              "        text-align: right;\n",
              "    }\n",
              "</style>\n",
              "<table border=\"1\" class=\"dataframe\">\n",
              "  <thead>\n",
              "    <tr style=\"text-align: right;\">\n",
              "      <th></th>\n",
              "      <th>review</th>\n",
              "      <th>sentiment</th>\n",
              "    </tr>\n",
              "  </thead>\n",
              "  <tbody>\n",
              "    <tr>\n",
              "      <th>0</th>\n",
              "      <td>One of the other reviewers has mentioned that ...</td>\n",
              "      <td>1</td>\n",
              "    </tr>\n",
              "    <tr>\n",
              "      <th>1</th>\n",
              "      <td>A wonderful little production. &lt;br /&gt;&lt;br /&gt;The...</td>\n",
              "      <td>1</td>\n",
              "    </tr>\n",
              "    <tr>\n",
              "      <th>2</th>\n",
              "      <td>I thought this was a wonderful way to spend ti...</td>\n",
              "      <td>1</td>\n",
              "    </tr>\n",
              "    <tr>\n",
              "      <th>3</th>\n",
              "      <td>Basically there's a family where a little boy ...</td>\n",
              "      <td>0</td>\n",
              "    </tr>\n",
              "    <tr>\n",
              "      <th>4</th>\n",
              "      <td>Petter Mattei's \"Love in the Time of Money\" is...</td>\n",
              "      <td>1</td>\n",
              "    </tr>\n",
              "  </tbody>\n",
              "</table>\n",
              "</div>\n",
              "      <button class=\"colab-df-convert\" onclick=\"convertToInteractive('df-b5494c44-57b8-4459-b5b6-40e75d383f44')\"\n",
              "              title=\"Convert this dataframe to an interactive table.\"\n",
              "              style=\"display:none;\">\n",
              "        \n",
              "  <svg xmlns=\"http://www.w3.org/2000/svg\" height=\"24px\"viewBox=\"0 0 24 24\"\n",
              "       width=\"24px\">\n",
              "    <path d=\"M0 0h24v24H0V0z\" fill=\"none\"/>\n",
              "    <path d=\"M18.56 5.44l.94 2.06.94-2.06 2.06-.94-2.06-.94-.94-2.06-.94 2.06-2.06.94zm-11 1L8.5 8.5l.94-2.06 2.06-.94-2.06-.94L8.5 2.5l-.94 2.06-2.06.94zm10 10l.94 2.06.94-2.06 2.06-.94-2.06-.94-.94-2.06-.94 2.06-2.06.94z\"/><path d=\"M17.41 7.96l-1.37-1.37c-.4-.4-.92-.59-1.43-.59-.52 0-1.04.2-1.43.59L10.3 9.45l-7.72 7.72c-.78.78-.78 2.05 0 2.83L4 21.41c.39.39.9.59 1.41.59.51 0 1.02-.2 1.41-.59l7.78-7.78 2.81-2.81c.8-.78.8-2.07 0-2.86zM5.41 20L4 18.59l7.72-7.72 1.47 1.35L5.41 20z\"/>\n",
              "  </svg>\n",
              "      </button>\n",
              "      \n",
              "  <style>\n",
              "    .colab-df-container {\n",
              "      display:flex;\n",
              "      flex-wrap:wrap;\n",
              "      gap: 12px;\n",
              "    }\n",
              "\n",
              "    .colab-df-convert {\n",
              "      background-color: #E8F0FE;\n",
              "      border: none;\n",
              "      border-radius: 50%;\n",
              "      cursor: pointer;\n",
              "      display: none;\n",
              "      fill: #1967D2;\n",
              "      height: 32px;\n",
              "      padding: 0 0 0 0;\n",
              "      width: 32px;\n",
              "    }\n",
              "\n",
              "    .colab-df-convert:hover {\n",
              "      background-color: #E2EBFA;\n",
              "      box-shadow: 0px 1px 2px rgba(60, 64, 67, 0.3), 0px 1px 3px 1px rgba(60, 64, 67, 0.15);\n",
              "      fill: #174EA6;\n",
              "    }\n",
              "\n",
              "    [theme=dark] .colab-df-convert {\n",
              "      background-color: #3B4455;\n",
              "      fill: #D2E3FC;\n",
              "    }\n",
              "\n",
              "    [theme=dark] .colab-df-convert:hover {\n",
              "      background-color: #434B5C;\n",
              "      box-shadow: 0px 1px 3px 1px rgba(0, 0, 0, 0.15);\n",
              "      filter: drop-shadow(0px 1px 2px rgba(0, 0, 0, 0.3));\n",
              "      fill: #FFFFFF;\n",
              "    }\n",
              "  </style>\n",
              "\n",
              "      <script>\n",
              "        const buttonEl =\n",
              "          document.querySelector('#df-b5494c44-57b8-4459-b5b6-40e75d383f44 button.colab-df-convert');\n",
              "        buttonEl.style.display =\n",
              "          google.colab.kernel.accessAllowed ? 'block' : 'none';\n",
              "\n",
              "        async function convertToInteractive(key) {\n",
              "          const element = document.querySelector('#df-b5494c44-57b8-4459-b5b6-40e75d383f44');\n",
              "          const dataTable =\n",
              "            await google.colab.kernel.invokeFunction('convertToInteractive',\n",
              "                                                     [key], {});\n",
              "          if (!dataTable) return;\n",
              "\n",
              "          const docLinkHtml = 'Like what you see? Visit the ' +\n",
              "            '<a target=\"_blank\" href=https://colab.research.google.com/notebooks/data_table.ipynb>data table notebook</a>'\n",
              "            + ' to learn more about interactive tables.';\n",
              "          element.innerHTML = '';\n",
              "          dataTable['output_type'] = 'display_data';\n",
              "          await google.colab.output.renderOutput(dataTable, element);\n",
              "          const docLink = document.createElement('div');\n",
              "          docLink.innerHTML = docLinkHtml;\n",
              "          element.appendChild(docLink);\n",
              "        }\n",
              "      </script>\n",
              "    </div>\n",
              "  </div>\n",
              "  "
            ]
          },
          "metadata": {},
          "execution_count": 11
        }
      ]
    },
    {
      "cell_type": "code",
      "source": [
        "imdb_catcoded_1.tail(5)"
      ],
      "metadata": {
        "colab": {
          "base_uri": "https://localhost:8080/",
          "height": 0
        },
        "id": "3rk3MThB5Pu0",
        "outputId": "ab283c71-7d78-4671-e3c4-ec74ce94c712"
      },
      "execution_count": 12,
      "outputs": [
        {
          "output_type": "execute_result",
          "data": {
            "text/plain": [
              "                                                  review  sentiment\n",
              "49995  I thought this movie did a down right good job...          1\n",
              "49996  Bad plot, bad dialogue, bad acting, idiotic di...          0\n",
              "49997  I am a Catholic taught in parochial elementary...          0\n",
              "49998  I'm going to have to disagree with the previou...          0\n",
              "49999  No one expects the Star Trek movies to be high...          0"
            ],
            "text/html": [
              "\n",
              "  <div id=\"df-f03415c0-8448-4e0b-8156-ef731425f43c\">\n",
              "    <div class=\"colab-df-container\">\n",
              "      <div>\n",
              "<style scoped>\n",
              "    .dataframe tbody tr th:only-of-type {\n",
              "        vertical-align: middle;\n",
              "    }\n",
              "\n",
              "    .dataframe tbody tr th {\n",
              "        vertical-align: top;\n",
              "    }\n",
              "\n",
              "    .dataframe thead th {\n",
              "        text-align: right;\n",
              "    }\n",
              "</style>\n",
              "<table border=\"1\" class=\"dataframe\">\n",
              "  <thead>\n",
              "    <tr style=\"text-align: right;\">\n",
              "      <th></th>\n",
              "      <th>review</th>\n",
              "      <th>sentiment</th>\n",
              "    </tr>\n",
              "  </thead>\n",
              "  <tbody>\n",
              "    <tr>\n",
              "      <th>49995</th>\n",
              "      <td>I thought this movie did a down right good job...</td>\n",
              "      <td>1</td>\n",
              "    </tr>\n",
              "    <tr>\n",
              "      <th>49996</th>\n",
              "      <td>Bad plot, bad dialogue, bad acting, idiotic di...</td>\n",
              "      <td>0</td>\n",
              "    </tr>\n",
              "    <tr>\n",
              "      <th>49997</th>\n",
              "      <td>I am a Catholic taught in parochial elementary...</td>\n",
              "      <td>0</td>\n",
              "    </tr>\n",
              "    <tr>\n",
              "      <th>49998</th>\n",
              "      <td>I'm going to have to disagree with the previou...</td>\n",
              "      <td>0</td>\n",
              "    </tr>\n",
              "    <tr>\n",
              "      <th>49999</th>\n",
              "      <td>No one expects the Star Trek movies to be high...</td>\n",
              "      <td>0</td>\n",
              "    </tr>\n",
              "  </tbody>\n",
              "</table>\n",
              "</div>\n",
              "      <button class=\"colab-df-convert\" onclick=\"convertToInteractive('df-f03415c0-8448-4e0b-8156-ef731425f43c')\"\n",
              "              title=\"Convert this dataframe to an interactive table.\"\n",
              "              style=\"display:none;\">\n",
              "        \n",
              "  <svg xmlns=\"http://www.w3.org/2000/svg\" height=\"24px\"viewBox=\"0 0 24 24\"\n",
              "       width=\"24px\">\n",
              "    <path d=\"M0 0h24v24H0V0z\" fill=\"none\"/>\n",
              "    <path d=\"M18.56 5.44l.94 2.06.94-2.06 2.06-.94-2.06-.94-.94-2.06-.94 2.06-2.06.94zm-11 1L8.5 8.5l.94-2.06 2.06-.94-2.06-.94L8.5 2.5l-.94 2.06-2.06.94zm10 10l.94 2.06.94-2.06 2.06-.94-2.06-.94-.94-2.06-.94 2.06-2.06.94z\"/><path d=\"M17.41 7.96l-1.37-1.37c-.4-.4-.92-.59-1.43-.59-.52 0-1.04.2-1.43.59L10.3 9.45l-7.72 7.72c-.78.78-.78 2.05 0 2.83L4 21.41c.39.39.9.59 1.41.59.51 0 1.02-.2 1.41-.59l7.78-7.78 2.81-2.81c.8-.78.8-2.07 0-2.86zM5.41 20L4 18.59l7.72-7.72 1.47 1.35L5.41 20z\"/>\n",
              "  </svg>\n",
              "      </button>\n",
              "      \n",
              "  <style>\n",
              "    .colab-df-container {\n",
              "      display:flex;\n",
              "      flex-wrap:wrap;\n",
              "      gap: 12px;\n",
              "    }\n",
              "\n",
              "    .colab-df-convert {\n",
              "      background-color: #E8F0FE;\n",
              "      border: none;\n",
              "      border-radius: 50%;\n",
              "      cursor: pointer;\n",
              "      display: none;\n",
              "      fill: #1967D2;\n",
              "      height: 32px;\n",
              "      padding: 0 0 0 0;\n",
              "      width: 32px;\n",
              "    }\n",
              "\n",
              "    .colab-df-convert:hover {\n",
              "      background-color: #E2EBFA;\n",
              "      box-shadow: 0px 1px 2px rgba(60, 64, 67, 0.3), 0px 1px 3px 1px rgba(60, 64, 67, 0.15);\n",
              "      fill: #174EA6;\n",
              "    }\n",
              "\n",
              "    [theme=dark] .colab-df-convert {\n",
              "      background-color: #3B4455;\n",
              "      fill: #D2E3FC;\n",
              "    }\n",
              "\n",
              "    [theme=dark] .colab-df-convert:hover {\n",
              "      background-color: #434B5C;\n",
              "      box-shadow: 0px 1px 3px 1px rgba(0, 0, 0, 0.15);\n",
              "      filter: drop-shadow(0px 1px 2px rgba(0, 0, 0, 0.3));\n",
              "      fill: #FFFFFF;\n",
              "    }\n",
              "  </style>\n",
              "\n",
              "      <script>\n",
              "        const buttonEl =\n",
              "          document.querySelector('#df-f03415c0-8448-4e0b-8156-ef731425f43c button.colab-df-convert');\n",
              "        buttonEl.style.display =\n",
              "          google.colab.kernel.accessAllowed ? 'block' : 'none';\n",
              "\n",
              "        async function convertToInteractive(key) {\n",
              "          const element = document.querySelector('#df-f03415c0-8448-4e0b-8156-ef731425f43c');\n",
              "          const dataTable =\n",
              "            await google.colab.kernel.invokeFunction('convertToInteractive',\n",
              "                                                     [key], {});\n",
              "          if (!dataTable) return;\n",
              "\n",
              "          const docLinkHtml = 'Like what you see? Visit the ' +\n",
              "            '<a target=\"_blank\" href=https://colab.research.google.com/notebooks/data_table.ipynb>data table notebook</a>'\n",
              "            + ' to learn more about interactive tables.';\n",
              "          element.innerHTML = '';\n",
              "          dataTable['output_type'] = 'display_data';\n",
              "          await google.colab.output.renderOutput(dataTable, element);\n",
              "          const docLink = document.createElement('div');\n",
              "          docLink.innerHTML = docLinkHtml;\n",
              "          element.appendChild(docLink);\n",
              "        }\n",
              "      </script>\n",
              "    </div>\n",
              "  </div>\n",
              "  "
            ]
          },
          "metadata": {},
          "execution_count": 12
        }
      ]
    },
    {
      "cell_type": "markdown",
      "source": [
        "## Method 2"
      ],
      "metadata": {
        "id": "I8epOd5T5sUG"
      }
    },
    {
      "cell_type": "markdown",
      "source": [
        ""
      ],
      "metadata": {
        "id": "bdQbZpg85sPe"
      }
    },
    {
      "cell_type": "code",
      "source": [
        "imdb_data_2 = imdb_data"
      ],
      "metadata": {
        "id": "O-nvUGHi6N05"
      },
      "execution_count": 13,
      "outputs": []
    },
    {
      "cell_type": "code",
      "source": [
        "imdb_data_2['sentiment']= imdb_data_2['sentiment'].astype('category')\n",
        "imdb_data_2['sentiment'] = imdb_data_2['sentiment'].cat.codes"
      ],
      "metadata": {
        "id": "oBb5DhwH7bM4"
      },
      "execution_count": 14,
      "outputs": []
    },
    {
      "cell_type": "code",
      "source": [
        "imdb_data_2.head(5)"
      ],
      "metadata": {
        "colab": {
          "base_uri": "https://localhost:8080/",
          "height": 0
        },
        "id": "oVy8Z82A7orT",
        "outputId": "67231618-3b51-4b6b-b0d8-325665ab2be9"
      },
      "execution_count": 15,
      "outputs": [
        {
          "output_type": "execute_result",
          "data": {
            "text/plain": [
              "                                              review  sentiment\n",
              "0  One of the other reviewers has mentioned that ...          1\n",
              "1  A wonderful little production. <br /><br />The...          1\n",
              "2  I thought this was a wonderful way to spend ti...          1\n",
              "3  Basically there's a family where a little boy ...          0\n",
              "4  Petter Mattei's \"Love in the Time of Money\" is...          1"
            ],
            "text/html": [
              "\n",
              "  <div id=\"df-1908c4bd-5800-4381-8240-c211c2c95d9d\">\n",
              "    <div class=\"colab-df-container\">\n",
              "      <div>\n",
              "<style scoped>\n",
              "    .dataframe tbody tr th:only-of-type {\n",
              "        vertical-align: middle;\n",
              "    }\n",
              "\n",
              "    .dataframe tbody tr th {\n",
              "        vertical-align: top;\n",
              "    }\n",
              "\n",
              "    .dataframe thead th {\n",
              "        text-align: right;\n",
              "    }\n",
              "</style>\n",
              "<table border=\"1\" class=\"dataframe\">\n",
              "  <thead>\n",
              "    <tr style=\"text-align: right;\">\n",
              "      <th></th>\n",
              "      <th>review</th>\n",
              "      <th>sentiment</th>\n",
              "    </tr>\n",
              "  </thead>\n",
              "  <tbody>\n",
              "    <tr>\n",
              "      <th>0</th>\n",
              "      <td>One of the other reviewers has mentioned that ...</td>\n",
              "      <td>1</td>\n",
              "    </tr>\n",
              "    <tr>\n",
              "      <th>1</th>\n",
              "      <td>A wonderful little production. &lt;br /&gt;&lt;br /&gt;The...</td>\n",
              "      <td>1</td>\n",
              "    </tr>\n",
              "    <tr>\n",
              "      <th>2</th>\n",
              "      <td>I thought this was a wonderful way to spend ti...</td>\n",
              "      <td>1</td>\n",
              "    </tr>\n",
              "    <tr>\n",
              "      <th>3</th>\n",
              "      <td>Basically there's a family where a little boy ...</td>\n",
              "      <td>0</td>\n",
              "    </tr>\n",
              "    <tr>\n",
              "      <th>4</th>\n",
              "      <td>Petter Mattei's \"Love in the Time of Money\" is...</td>\n",
              "      <td>1</td>\n",
              "    </tr>\n",
              "  </tbody>\n",
              "</table>\n",
              "</div>\n",
              "      <button class=\"colab-df-convert\" onclick=\"convertToInteractive('df-1908c4bd-5800-4381-8240-c211c2c95d9d')\"\n",
              "              title=\"Convert this dataframe to an interactive table.\"\n",
              "              style=\"display:none;\">\n",
              "        \n",
              "  <svg xmlns=\"http://www.w3.org/2000/svg\" height=\"24px\"viewBox=\"0 0 24 24\"\n",
              "       width=\"24px\">\n",
              "    <path d=\"M0 0h24v24H0V0z\" fill=\"none\"/>\n",
              "    <path d=\"M18.56 5.44l.94 2.06.94-2.06 2.06-.94-2.06-.94-.94-2.06-.94 2.06-2.06.94zm-11 1L8.5 8.5l.94-2.06 2.06-.94-2.06-.94L8.5 2.5l-.94 2.06-2.06.94zm10 10l.94 2.06.94-2.06 2.06-.94-2.06-.94-.94-2.06-.94 2.06-2.06.94z\"/><path d=\"M17.41 7.96l-1.37-1.37c-.4-.4-.92-.59-1.43-.59-.52 0-1.04.2-1.43.59L10.3 9.45l-7.72 7.72c-.78.78-.78 2.05 0 2.83L4 21.41c.39.39.9.59 1.41.59.51 0 1.02-.2 1.41-.59l7.78-7.78 2.81-2.81c.8-.78.8-2.07 0-2.86zM5.41 20L4 18.59l7.72-7.72 1.47 1.35L5.41 20z\"/>\n",
              "  </svg>\n",
              "      </button>\n",
              "      \n",
              "  <style>\n",
              "    .colab-df-container {\n",
              "      display:flex;\n",
              "      flex-wrap:wrap;\n",
              "      gap: 12px;\n",
              "    }\n",
              "\n",
              "    .colab-df-convert {\n",
              "      background-color: #E8F0FE;\n",
              "      border: none;\n",
              "      border-radius: 50%;\n",
              "      cursor: pointer;\n",
              "      display: none;\n",
              "      fill: #1967D2;\n",
              "      height: 32px;\n",
              "      padding: 0 0 0 0;\n",
              "      width: 32px;\n",
              "    }\n",
              "\n",
              "    .colab-df-convert:hover {\n",
              "      background-color: #E2EBFA;\n",
              "      box-shadow: 0px 1px 2px rgba(60, 64, 67, 0.3), 0px 1px 3px 1px rgba(60, 64, 67, 0.15);\n",
              "      fill: #174EA6;\n",
              "    }\n",
              "\n",
              "    [theme=dark] .colab-df-convert {\n",
              "      background-color: #3B4455;\n",
              "      fill: #D2E3FC;\n",
              "    }\n",
              "\n",
              "    [theme=dark] .colab-df-convert:hover {\n",
              "      background-color: #434B5C;\n",
              "      box-shadow: 0px 1px 3px 1px rgba(0, 0, 0, 0.15);\n",
              "      filter: drop-shadow(0px 1px 2px rgba(0, 0, 0, 0.3));\n",
              "      fill: #FFFFFF;\n",
              "    }\n",
              "  </style>\n",
              "\n",
              "      <script>\n",
              "        const buttonEl =\n",
              "          document.querySelector('#df-1908c4bd-5800-4381-8240-c211c2c95d9d button.colab-df-convert');\n",
              "        buttonEl.style.display =\n",
              "          google.colab.kernel.accessAllowed ? 'block' : 'none';\n",
              "\n",
              "        async function convertToInteractive(key) {\n",
              "          const element = document.querySelector('#df-1908c4bd-5800-4381-8240-c211c2c95d9d');\n",
              "          const dataTable =\n",
              "            await google.colab.kernel.invokeFunction('convertToInteractive',\n",
              "                                                     [key], {});\n",
              "          if (!dataTable) return;\n",
              "\n",
              "          const docLinkHtml = 'Like what you see? Visit the ' +\n",
              "            '<a target=\"_blank\" href=https://colab.research.google.com/notebooks/data_table.ipynb>data table notebook</a>'\n",
              "            + ' to learn more about interactive tables.';\n",
              "          element.innerHTML = '';\n",
              "          dataTable['output_type'] = 'display_data';\n",
              "          await google.colab.output.renderOutput(dataTable, element);\n",
              "          const docLink = document.createElement('div');\n",
              "          docLink.innerHTML = docLinkHtml;\n",
              "          element.appendChild(docLink);\n",
              "        }\n",
              "      </script>\n",
              "    </div>\n",
              "  </div>\n",
              "  "
            ]
          },
          "metadata": {},
          "execution_count": 15
        }
      ]
    },
    {
      "cell_type": "markdown",
      "source": [
        "## Method 3"
      ],
      "metadata": {
        "id": "DhxNrpzE7y9i"
      }
    },
    {
      "cell_type": "code",
      "source": [
        "imdb_data_3 = imdb_data"
      ],
      "metadata": {
        "id": "5x7qezY_8UY_"
      },
      "execution_count": 16,
      "outputs": []
    },
    {
      "cell_type": "code",
      "source": [
        "from sklearn.preprocessing import OrdinalEncoder\n",
        "\n",
        "ord_enc = OrdinalEncoder()\n",
        "\n",
        "imdb_data_3[\"sentiment\"] = ord_enc.fit_transform(imdb_data_3[[\"sentiment\"]])\n",
        "imdb_data_3[\"sentiment\"].astype(float)"
      ],
      "metadata": {
        "colab": {
          "base_uri": "https://localhost:8080/"
        },
        "id": "KE2ue4YQ70Mr",
        "outputId": "35060549-e6b6-49b0-dd18-e5306ebf15f1"
      },
      "execution_count": 17,
      "outputs": [
        {
          "output_type": "execute_result",
          "data": {
            "text/plain": [
              "0        1.0\n",
              "1        1.0\n",
              "2        1.0\n",
              "3        0.0\n",
              "4        1.0\n",
              "        ... \n",
              "49995    1.0\n",
              "49996    0.0\n",
              "49997    0.0\n",
              "49998    0.0\n",
              "49999    0.0\n",
              "Name: sentiment, Length: 50000, dtype: float64"
            ]
          },
          "metadata": {},
          "execution_count": 17
        }
      ]
    },
    {
      "cell_type": "code",
      "source": [
        "imdb_data_3.head(5)"
      ],
      "metadata": {
        "colab": {
          "base_uri": "https://localhost:8080/",
          "height": 0
        },
        "id": "KiC8nHkN8lMg",
        "outputId": "c585eb39-068e-44f7-fa98-6a7649b5bd75"
      },
      "execution_count": 18,
      "outputs": [
        {
          "output_type": "execute_result",
          "data": {
            "text/plain": [
              "                                              review  sentiment\n",
              "0  One of the other reviewers has mentioned that ...        1.0\n",
              "1  A wonderful little production. <br /><br />The...        1.0\n",
              "2  I thought this was a wonderful way to spend ti...        1.0\n",
              "3  Basically there's a family where a little boy ...        0.0\n",
              "4  Petter Mattei's \"Love in the Time of Money\" is...        1.0"
            ],
            "text/html": [
              "\n",
              "  <div id=\"df-139ce0b4-c741-48de-a919-b7f5b8ee1e8b\">\n",
              "    <div class=\"colab-df-container\">\n",
              "      <div>\n",
              "<style scoped>\n",
              "    .dataframe tbody tr th:only-of-type {\n",
              "        vertical-align: middle;\n",
              "    }\n",
              "\n",
              "    .dataframe tbody tr th {\n",
              "        vertical-align: top;\n",
              "    }\n",
              "\n",
              "    .dataframe thead th {\n",
              "        text-align: right;\n",
              "    }\n",
              "</style>\n",
              "<table border=\"1\" class=\"dataframe\">\n",
              "  <thead>\n",
              "    <tr style=\"text-align: right;\">\n",
              "      <th></th>\n",
              "      <th>review</th>\n",
              "      <th>sentiment</th>\n",
              "    </tr>\n",
              "  </thead>\n",
              "  <tbody>\n",
              "    <tr>\n",
              "      <th>0</th>\n",
              "      <td>One of the other reviewers has mentioned that ...</td>\n",
              "      <td>1.0</td>\n",
              "    </tr>\n",
              "    <tr>\n",
              "      <th>1</th>\n",
              "      <td>A wonderful little production. &lt;br /&gt;&lt;br /&gt;The...</td>\n",
              "      <td>1.0</td>\n",
              "    </tr>\n",
              "    <tr>\n",
              "      <th>2</th>\n",
              "      <td>I thought this was a wonderful way to spend ti...</td>\n",
              "      <td>1.0</td>\n",
              "    </tr>\n",
              "    <tr>\n",
              "      <th>3</th>\n",
              "      <td>Basically there's a family where a little boy ...</td>\n",
              "      <td>0.0</td>\n",
              "    </tr>\n",
              "    <tr>\n",
              "      <th>4</th>\n",
              "      <td>Petter Mattei's \"Love in the Time of Money\" is...</td>\n",
              "      <td>1.0</td>\n",
              "    </tr>\n",
              "  </tbody>\n",
              "</table>\n",
              "</div>\n",
              "      <button class=\"colab-df-convert\" onclick=\"convertToInteractive('df-139ce0b4-c741-48de-a919-b7f5b8ee1e8b')\"\n",
              "              title=\"Convert this dataframe to an interactive table.\"\n",
              "              style=\"display:none;\">\n",
              "        \n",
              "  <svg xmlns=\"http://www.w3.org/2000/svg\" height=\"24px\"viewBox=\"0 0 24 24\"\n",
              "       width=\"24px\">\n",
              "    <path d=\"M0 0h24v24H0V0z\" fill=\"none\"/>\n",
              "    <path d=\"M18.56 5.44l.94 2.06.94-2.06 2.06-.94-2.06-.94-.94-2.06-.94 2.06-2.06.94zm-11 1L8.5 8.5l.94-2.06 2.06-.94-2.06-.94L8.5 2.5l-.94 2.06-2.06.94zm10 10l.94 2.06.94-2.06 2.06-.94-2.06-.94-.94-2.06-.94 2.06-2.06.94z\"/><path d=\"M17.41 7.96l-1.37-1.37c-.4-.4-.92-.59-1.43-.59-.52 0-1.04.2-1.43.59L10.3 9.45l-7.72 7.72c-.78.78-.78 2.05 0 2.83L4 21.41c.39.39.9.59 1.41.59.51 0 1.02-.2 1.41-.59l7.78-7.78 2.81-2.81c.8-.78.8-2.07 0-2.86zM5.41 20L4 18.59l7.72-7.72 1.47 1.35L5.41 20z\"/>\n",
              "  </svg>\n",
              "      </button>\n",
              "      \n",
              "  <style>\n",
              "    .colab-df-container {\n",
              "      display:flex;\n",
              "      flex-wrap:wrap;\n",
              "      gap: 12px;\n",
              "    }\n",
              "\n",
              "    .colab-df-convert {\n",
              "      background-color: #E8F0FE;\n",
              "      border: none;\n",
              "      border-radius: 50%;\n",
              "      cursor: pointer;\n",
              "      display: none;\n",
              "      fill: #1967D2;\n",
              "      height: 32px;\n",
              "      padding: 0 0 0 0;\n",
              "      width: 32px;\n",
              "    }\n",
              "\n",
              "    .colab-df-convert:hover {\n",
              "      background-color: #E2EBFA;\n",
              "      box-shadow: 0px 1px 2px rgba(60, 64, 67, 0.3), 0px 1px 3px 1px rgba(60, 64, 67, 0.15);\n",
              "      fill: #174EA6;\n",
              "    }\n",
              "\n",
              "    [theme=dark] .colab-df-convert {\n",
              "      background-color: #3B4455;\n",
              "      fill: #D2E3FC;\n",
              "    }\n",
              "\n",
              "    [theme=dark] .colab-df-convert:hover {\n",
              "      background-color: #434B5C;\n",
              "      box-shadow: 0px 1px 3px 1px rgba(0, 0, 0, 0.15);\n",
              "      filter: drop-shadow(0px 1px 2px rgba(0, 0, 0, 0.3));\n",
              "      fill: #FFFFFF;\n",
              "    }\n",
              "  </style>\n",
              "\n",
              "      <script>\n",
              "        const buttonEl =\n",
              "          document.querySelector('#df-139ce0b4-c741-48de-a919-b7f5b8ee1e8b button.colab-df-convert');\n",
              "        buttonEl.style.display =\n",
              "          google.colab.kernel.accessAllowed ? 'block' : 'none';\n",
              "\n",
              "        async function convertToInteractive(key) {\n",
              "          const element = document.querySelector('#df-139ce0b4-c741-48de-a919-b7f5b8ee1e8b');\n",
              "          const dataTable =\n",
              "            await google.colab.kernel.invokeFunction('convertToInteractive',\n",
              "                                                     [key], {});\n",
              "          if (!dataTable) return;\n",
              "\n",
              "          const docLinkHtml = 'Like what you see? Visit the ' +\n",
              "            '<a target=\"_blank\" href=https://colab.research.google.com/notebooks/data_table.ipynb>data table notebook</a>'\n",
              "            + ' to learn more about interactive tables.';\n",
              "          element.innerHTML = '';\n",
              "          dataTable['output_type'] = 'display_data';\n",
              "          await google.colab.output.renderOutput(dataTable, element);\n",
              "          const docLink = document.createElement('div');\n",
              "          docLink.innerHTML = docLinkHtml;\n",
              "          element.appendChild(docLink);\n",
              "        }\n",
              "      </script>\n",
              "    </div>\n",
              "  </div>\n",
              "  "
            ]
          },
          "metadata": {},
          "execution_count": 18
        }
      ]
    },
    {
      "cell_type": "markdown",
      "source": [
        "We are gonna use the first method so let's use it to convert our `sentiment` column."
      ],
      "metadata": {
        "id": "mgW9ZfHZ-EBK"
      }
    },
    {
      "cell_type": "code",
      "source": [
        "imdb_data = imdb_data.replace(cats)"
      ],
      "metadata": {
        "id": "yontJVbd8qGl"
      },
      "execution_count": 19,
      "outputs": []
    },
    {
      "cell_type": "code",
      "source": [
        "imdb_data.head(5)"
      ],
      "metadata": {
        "colab": {
          "base_uri": "https://localhost:8080/",
          "height": 0
        },
        "id": "dVWm8v_Q-PIw",
        "outputId": "b228fb8f-66d2-4b64-cd87-5501f4207926"
      },
      "execution_count": 20,
      "outputs": [
        {
          "output_type": "execute_result",
          "data": {
            "text/plain": [
              "                                              review  sentiment\n",
              "0  One of the other reviewers has mentioned that ...        1.0\n",
              "1  A wonderful little production. <br /><br />The...        1.0\n",
              "2  I thought this was a wonderful way to spend ti...        1.0\n",
              "3  Basically there's a family where a little boy ...        0.0\n",
              "4  Petter Mattei's \"Love in the Time of Money\" is...        1.0"
            ],
            "text/html": [
              "\n",
              "  <div id=\"df-0e162c62-4734-4b34-84c5-a17c10a9884e\">\n",
              "    <div class=\"colab-df-container\">\n",
              "      <div>\n",
              "<style scoped>\n",
              "    .dataframe tbody tr th:only-of-type {\n",
              "        vertical-align: middle;\n",
              "    }\n",
              "\n",
              "    .dataframe tbody tr th {\n",
              "        vertical-align: top;\n",
              "    }\n",
              "\n",
              "    .dataframe thead th {\n",
              "        text-align: right;\n",
              "    }\n",
              "</style>\n",
              "<table border=\"1\" class=\"dataframe\">\n",
              "  <thead>\n",
              "    <tr style=\"text-align: right;\">\n",
              "      <th></th>\n",
              "      <th>review</th>\n",
              "      <th>sentiment</th>\n",
              "    </tr>\n",
              "  </thead>\n",
              "  <tbody>\n",
              "    <tr>\n",
              "      <th>0</th>\n",
              "      <td>One of the other reviewers has mentioned that ...</td>\n",
              "      <td>1.0</td>\n",
              "    </tr>\n",
              "    <tr>\n",
              "      <th>1</th>\n",
              "      <td>A wonderful little production. &lt;br /&gt;&lt;br /&gt;The...</td>\n",
              "      <td>1.0</td>\n",
              "    </tr>\n",
              "    <tr>\n",
              "      <th>2</th>\n",
              "      <td>I thought this was a wonderful way to spend ti...</td>\n",
              "      <td>1.0</td>\n",
              "    </tr>\n",
              "    <tr>\n",
              "      <th>3</th>\n",
              "      <td>Basically there's a family where a little boy ...</td>\n",
              "      <td>0.0</td>\n",
              "    </tr>\n",
              "    <tr>\n",
              "      <th>4</th>\n",
              "      <td>Petter Mattei's \"Love in the Time of Money\" is...</td>\n",
              "      <td>1.0</td>\n",
              "    </tr>\n",
              "  </tbody>\n",
              "</table>\n",
              "</div>\n",
              "      <button class=\"colab-df-convert\" onclick=\"convertToInteractive('df-0e162c62-4734-4b34-84c5-a17c10a9884e')\"\n",
              "              title=\"Convert this dataframe to an interactive table.\"\n",
              "              style=\"display:none;\">\n",
              "        \n",
              "  <svg xmlns=\"http://www.w3.org/2000/svg\" height=\"24px\"viewBox=\"0 0 24 24\"\n",
              "       width=\"24px\">\n",
              "    <path d=\"M0 0h24v24H0V0z\" fill=\"none\"/>\n",
              "    <path d=\"M18.56 5.44l.94 2.06.94-2.06 2.06-.94-2.06-.94-.94-2.06-.94 2.06-2.06.94zm-11 1L8.5 8.5l.94-2.06 2.06-.94-2.06-.94L8.5 2.5l-.94 2.06-2.06.94zm10 10l.94 2.06.94-2.06 2.06-.94-2.06-.94-.94-2.06-.94 2.06-2.06.94z\"/><path d=\"M17.41 7.96l-1.37-1.37c-.4-.4-.92-.59-1.43-.59-.52 0-1.04.2-1.43.59L10.3 9.45l-7.72 7.72c-.78.78-.78 2.05 0 2.83L4 21.41c.39.39.9.59 1.41.59.51 0 1.02-.2 1.41-.59l7.78-7.78 2.81-2.81c.8-.78.8-2.07 0-2.86zM5.41 20L4 18.59l7.72-7.72 1.47 1.35L5.41 20z\"/>\n",
              "  </svg>\n",
              "      </button>\n",
              "      \n",
              "  <style>\n",
              "    .colab-df-container {\n",
              "      display:flex;\n",
              "      flex-wrap:wrap;\n",
              "      gap: 12px;\n",
              "    }\n",
              "\n",
              "    .colab-df-convert {\n",
              "      background-color: #E8F0FE;\n",
              "      border: none;\n",
              "      border-radius: 50%;\n",
              "      cursor: pointer;\n",
              "      display: none;\n",
              "      fill: #1967D2;\n",
              "      height: 32px;\n",
              "      padding: 0 0 0 0;\n",
              "      width: 32px;\n",
              "    }\n",
              "\n",
              "    .colab-df-convert:hover {\n",
              "      background-color: #E2EBFA;\n",
              "      box-shadow: 0px 1px 2px rgba(60, 64, 67, 0.3), 0px 1px 3px 1px rgba(60, 64, 67, 0.15);\n",
              "      fill: #174EA6;\n",
              "    }\n",
              "\n",
              "    [theme=dark] .colab-df-convert {\n",
              "      background-color: #3B4455;\n",
              "      fill: #D2E3FC;\n",
              "    }\n",
              "\n",
              "    [theme=dark] .colab-df-convert:hover {\n",
              "      background-color: #434B5C;\n",
              "      box-shadow: 0px 1px 3px 1px rgba(0, 0, 0, 0.15);\n",
              "      filter: drop-shadow(0px 1px 2px rgba(0, 0, 0, 0.3));\n",
              "      fill: #FFFFFF;\n",
              "    }\n",
              "  </style>\n",
              "\n",
              "      <script>\n",
              "        const buttonEl =\n",
              "          document.querySelector('#df-0e162c62-4734-4b34-84c5-a17c10a9884e button.colab-df-convert');\n",
              "        buttonEl.style.display =\n",
              "          google.colab.kernel.accessAllowed ? 'block' : 'none';\n",
              "\n",
              "        async function convertToInteractive(key) {\n",
              "          const element = document.querySelector('#df-0e162c62-4734-4b34-84c5-a17c10a9884e');\n",
              "          const dataTable =\n",
              "            await google.colab.kernel.invokeFunction('convertToInteractive',\n",
              "                                                     [key], {});\n",
              "          if (!dataTable) return;\n",
              "\n",
              "          const docLinkHtml = 'Like what you see? Visit the ' +\n",
              "            '<a target=\"_blank\" href=https://colab.research.google.com/notebooks/data_table.ipynb>data table notebook</a>'\n",
              "            + ' to learn more about interactive tables.';\n",
              "          element.innerHTML = '';\n",
              "          dataTable['output_type'] = 'display_data';\n",
              "          await google.colab.output.renderOutput(dataTable, element);\n",
              "          const docLink = document.createElement('div');\n",
              "          docLink.innerHTML = docLinkHtml;\n",
              "          element.appendChild(docLink);\n",
              "        }\n",
              "      </script>\n",
              "    </div>\n",
              "  </div>\n",
              "  "
            ]
          },
          "metadata": {},
          "execution_count": 20
        }
      ]
    },
    {
      "cell_type": "code",
      "source": [
        "imdb_data.tail(5)"
      ],
      "metadata": {
        "colab": {
          "base_uri": "https://localhost:8080/",
          "height": 0
        },
        "id": "5-q7lBsv-RoU",
        "outputId": "fc5384cd-1e46-45de-c210-79679a836cce"
      },
      "execution_count": 21,
      "outputs": [
        {
          "output_type": "execute_result",
          "data": {
            "text/plain": [
              "                                                  review  sentiment\n",
              "49995  I thought this movie did a down right good job...        1.0\n",
              "49996  Bad plot, bad dialogue, bad acting, idiotic di...        0.0\n",
              "49997  I am a Catholic taught in parochial elementary...        0.0\n",
              "49998  I'm going to have to disagree with the previou...        0.0\n",
              "49999  No one expects the Star Trek movies to be high...        0.0"
            ],
            "text/html": [
              "\n",
              "  <div id=\"df-8882491a-2dce-4e0f-a2bc-f4edfacda612\">\n",
              "    <div class=\"colab-df-container\">\n",
              "      <div>\n",
              "<style scoped>\n",
              "    .dataframe tbody tr th:only-of-type {\n",
              "        vertical-align: middle;\n",
              "    }\n",
              "\n",
              "    .dataframe tbody tr th {\n",
              "        vertical-align: top;\n",
              "    }\n",
              "\n",
              "    .dataframe thead th {\n",
              "        text-align: right;\n",
              "    }\n",
              "</style>\n",
              "<table border=\"1\" class=\"dataframe\">\n",
              "  <thead>\n",
              "    <tr style=\"text-align: right;\">\n",
              "      <th></th>\n",
              "      <th>review</th>\n",
              "      <th>sentiment</th>\n",
              "    </tr>\n",
              "  </thead>\n",
              "  <tbody>\n",
              "    <tr>\n",
              "      <th>49995</th>\n",
              "      <td>I thought this movie did a down right good job...</td>\n",
              "      <td>1.0</td>\n",
              "    </tr>\n",
              "    <tr>\n",
              "      <th>49996</th>\n",
              "      <td>Bad plot, bad dialogue, bad acting, idiotic di...</td>\n",
              "      <td>0.0</td>\n",
              "    </tr>\n",
              "    <tr>\n",
              "      <th>49997</th>\n",
              "      <td>I am a Catholic taught in parochial elementary...</td>\n",
              "      <td>0.0</td>\n",
              "    </tr>\n",
              "    <tr>\n",
              "      <th>49998</th>\n",
              "      <td>I'm going to have to disagree with the previou...</td>\n",
              "      <td>0.0</td>\n",
              "    </tr>\n",
              "    <tr>\n",
              "      <th>49999</th>\n",
              "      <td>No one expects the Star Trek movies to be high...</td>\n",
              "      <td>0.0</td>\n",
              "    </tr>\n",
              "  </tbody>\n",
              "</table>\n",
              "</div>\n",
              "      <button class=\"colab-df-convert\" onclick=\"convertToInteractive('df-8882491a-2dce-4e0f-a2bc-f4edfacda612')\"\n",
              "              title=\"Convert this dataframe to an interactive table.\"\n",
              "              style=\"display:none;\">\n",
              "        \n",
              "  <svg xmlns=\"http://www.w3.org/2000/svg\" height=\"24px\"viewBox=\"0 0 24 24\"\n",
              "       width=\"24px\">\n",
              "    <path d=\"M0 0h24v24H0V0z\" fill=\"none\"/>\n",
              "    <path d=\"M18.56 5.44l.94 2.06.94-2.06 2.06-.94-2.06-.94-.94-2.06-.94 2.06-2.06.94zm-11 1L8.5 8.5l.94-2.06 2.06-.94-2.06-.94L8.5 2.5l-.94 2.06-2.06.94zm10 10l.94 2.06.94-2.06 2.06-.94-2.06-.94-.94-2.06-.94 2.06-2.06.94z\"/><path d=\"M17.41 7.96l-1.37-1.37c-.4-.4-.92-.59-1.43-.59-.52 0-1.04.2-1.43.59L10.3 9.45l-7.72 7.72c-.78.78-.78 2.05 0 2.83L4 21.41c.39.39.9.59 1.41.59.51 0 1.02-.2 1.41-.59l7.78-7.78 2.81-2.81c.8-.78.8-2.07 0-2.86zM5.41 20L4 18.59l7.72-7.72 1.47 1.35L5.41 20z\"/>\n",
              "  </svg>\n",
              "      </button>\n",
              "      \n",
              "  <style>\n",
              "    .colab-df-container {\n",
              "      display:flex;\n",
              "      flex-wrap:wrap;\n",
              "      gap: 12px;\n",
              "    }\n",
              "\n",
              "    .colab-df-convert {\n",
              "      background-color: #E8F0FE;\n",
              "      border: none;\n",
              "      border-radius: 50%;\n",
              "      cursor: pointer;\n",
              "      display: none;\n",
              "      fill: #1967D2;\n",
              "      height: 32px;\n",
              "      padding: 0 0 0 0;\n",
              "      width: 32px;\n",
              "    }\n",
              "\n",
              "    .colab-df-convert:hover {\n",
              "      background-color: #E2EBFA;\n",
              "      box-shadow: 0px 1px 2px rgba(60, 64, 67, 0.3), 0px 1px 3px 1px rgba(60, 64, 67, 0.15);\n",
              "      fill: #174EA6;\n",
              "    }\n",
              "\n",
              "    [theme=dark] .colab-df-convert {\n",
              "      background-color: #3B4455;\n",
              "      fill: #D2E3FC;\n",
              "    }\n",
              "\n",
              "    [theme=dark] .colab-df-convert:hover {\n",
              "      background-color: #434B5C;\n",
              "      box-shadow: 0px 1px 3px 1px rgba(0, 0, 0, 0.15);\n",
              "      filter: drop-shadow(0px 1px 2px rgba(0, 0, 0, 0.3));\n",
              "      fill: #FFFFFF;\n",
              "    }\n",
              "  </style>\n",
              "\n",
              "      <script>\n",
              "        const buttonEl =\n",
              "          document.querySelector('#df-8882491a-2dce-4e0f-a2bc-f4edfacda612 button.colab-df-convert');\n",
              "        buttonEl.style.display =\n",
              "          google.colab.kernel.accessAllowed ? 'block' : 'none';\n",
              "\n",
              "        async function convertToInteractive(key) {\n",
              "          const element = document.querySelector('#df-8882491a-2dce-4e0f-a2bc-f4edfacda612');\n",
              "          const dataTable =\n",
              "            await google.colab.kernel.invokeFunction('convertToInteractive',\n",
              "                                                     [key], {});\n",
              "          if (!dataTable) return;\n",
              "\n",
              "          const docLinkHtml = 'Like what you see? Visit the ' +\n",
              "            '<a target=\"_blank\" href=https://colab.research.google.com/notebooks/data_table.ipynb>data table notebook</a>'\n",
              "            + ' to learn more about interactive tables.';\n",
              "          element.innerHTML = '';\n",
              "          dataTable['output_type'] = 'display_data';\n",
              "          await google.colab.output.renderOutput(dataTable, element);\n",
              "          const docLink = document.createElement('div');\n",
              "          docLink.innerHTML = docLinkHtml;\n",
              "          element.appendChild(docLink);\n",
              "        }\n",
              "      </script>\n",
              "    </div>\n",
              "  </div>\n",
              "  "
            ]
          },
          "metadata": {},
          "execution_count": 21
        }
      ]
    },
    {
      "cell_type": "markdown",
      "source": [
        "# Splitting and Visualizing"
      ],
      "metadata": {
        "id": "2KxoJwf6_PdD"
      }
    },
    {
      "cell_type": "code",
      "source": [
        "# Shuffle training dataframe\n",
        "train_df_shuffled = imdb_data.sample(frac=1, random_state=42) # shuffle with random_state=42 for reproducibility\n",
        "train_df_shuffled.shape, train_df_shuffled.head(5)"
      ],
      "metadata": {
        "colab": {
          "base_uri": "https://localhost:8080/"
        },
        "id": "yML-ltHV-VGn",
        "outputId": "345db41a-1398-4aca-a669-c371cc7610eb"
      },
      "execution_count": 22,
      "outputs": [
        {
          "output_type": "execute_result",
          "data": {
            "text/plain": [
              "((50000, 2),\n",
              "                                                   review  sentiment\n",
              " 33553  I really liked this Summerslam due to the look...        1.0\n",
              " 9427   Not many television shows appeal to quite as m...        1.0\n",
              " 199    The film quickly gets to a major chase scene w...        0.0\n",
              " 12447  Jane Austen would definitely approve of this o...        1.0\n",
              " 39489  Expectations were somewhat high for me when I ...        0.0)"
            ]
          },
          "metadata": {},
          "execution_count": 22
        }
      ]
    },
    {
      "cell_type": "code",
      "source": [
        "# Let's visualize some random training examples\n",
        "import random\n",
        "random_index = random.randint(0, len(imdb_data)-5) # create random indexes not higher than the total number of samples\n",
        "for row in train_df_shuffled[[\"review\", \"sentiment\"]][random_index:random_index+5].itertuples():\n",
        "  _, text, sentiment = row\n",
        "  print(f\"Target: {sentiment}\", \"(positive review)\" if sentiment > 0 else \"(negative review)\")\n",
        "  print(f\"Text: {text}\\n\")\n",
        "  print(\"---\\n\")"
      ],
      "metadata": {
        "colab": {
          "base_uri": "https://localhost:8080/"
        },
        "id": "oo8ChbjQCdAb",
        "outputId": "1d6ffc6f-96e8-437a-c62b-79fa088d3c9f"
      },
      "execution_count": 23,
      "outputs": [
        {
          "output_type": "stream",
          "name": "stdout",
          "text": [
            "Target: 1.0 (positive review)\n",
            "Text: After seeing The Aristocats: Special Edition in a two pack with The Fox in the Hound, I decided to buy it since both of these films were childhood favourites.<br /><br />The Aristocats is a classic, definitely. It might not be a five-star classic, but it is a fun film and makes a good evening's entertainment. It is somewhat a light refreshment from the darker, more serious Disney classics. The Aristocats tries to be a light-hearted musical comedy, and I think it just about succeeds.<br /><br />The storyline doesn't really make much sense and I don't think the plot is particularly strong, but it is certainly not weak. The animation and backgrounds are a bit scratchy in places, typical of Disney's 70s films, but it does have a rustic, old fashioned charm about it.<br /><br />The Aristocats strongest points are the characters, the music and the humour. The music is very memorable - try getting 'Everybody Wants To Be A Cat' out your head in a hurry! The songs are written by the Sherman Brothers, who also did the music for The Jungle Book. There was one song called 'She Never Felt Alone' that was going to be in the film, but sadly didn't make it into the final feature. It is a shame, because I think it would have fit in very well.<br /><br />The characters are unforgettable. Thomas O'Malley is voiced by Phil Harris, and is basically Baloo in a feline form. Eva Gabor gives Duchess this warm and maternal feel and the kitten's voices actually sound like children, and not an actor imitating the voice of a child. The secondary characters are here by the dozen and yet you still end up understanding their personalities. Edgar, the 'villainous' butler plays a similar role to Cruella De Vil, but he's more comical than scary, often ending up in funny situations. Even though he's the bad guy, he's still lovable all the same.<br /><br />The two British geese - Abigail and Amelia really had me cracking up, along with their crazy (and drunk) uncle. I also like the dogs, who tend to argue over who is 'the leader.' I could go on, but I won't spoil it. But I can tell you, The Aristocats is funny and will entertain everyone without having to resort to rudimentary toilet humour.<br /><br />The bottom line - The Aristocats might not be Disney's crowning achievement, or even their strongest film from the 70s (that award is a tie between The Rescuers and The Many Adventures of Whinnie the Pooh). But it is an enjoyable romp and is sure to entertain. If you are looking for a dazzling work of art, you might be better off watching Bambi. But if you want a fun night in, The Aristocats is the way to go. It is a charming and lovable film and it's impossible to dislike. Enjoy! (And besides, it's good to have a film where cats aren't seen as the villains).\n",
            "\n",
            "---\n",
            "\n",
            "Target: 0.0 (negative review)\n",
            "Text: Tyra Banks needs to teach these girls that it's not all about being beautiful on the outside. The inside counts for something too. A lot of the past winners have looked semi decent but are horribly cruel and starting trouble for the other girls. I see Tyra less involved with the girls in every season. About the only thing worth watching Top Model for is Mr. Jay Manuel. Recently, Tyra had a contestant who was a pre-op transsexual. I felt that she should have done more to encourage her. It was obvious that she had insecurities about her original anatomy showing through her feminine look. Tyra should have given her tips or perhaps she could have sent resident Trannie Ms. Jay to help the girl out. Instead, the contestant was met with harsh criticism and not enough positive criticism. It's a shame because I truly enjoyed the first 3 seasons. There's a reason why Project Runway has all 4 seasons out on DVD and Top Model only has 1 season on DVD. It's called taste. Top Model seriously needs a lot of revamping an some more humanity.\n",
            "\n",
            "---\n",
            "\n",
            "Target: 0.0 (negative review)\n",
            "Text: Oh mY God That has got to be one of the Most USELESS BRAINLESS STUPIDEST Comedy Ever Made!! What has Happened to Subhash Ghai, Even Apna Sapna Money Money Was Worth Watching<br /><br />Eww! GOD This Movie Stinks<br /><br />Do Not Watch it Save your Money Bad Movie Bad Cast Bad Jokes Bad Acting, even this movie is an Example of Shoe Polish being Rubbed on a Face<br /><br />Trust me This movie does even make you smile, Vulgar Jokes, Cheap jokes,A Really Stupid Movie with No concepts<br /><br />Rating 0 on 10<br /><br />AWFUL Movie those are the two hours im never getting back....<br /><br />Syed Shabbir Aly Naqvi of Pakistan\n",
            "\n",
            "---\n",
            "\n",
            "Target: 1.0 (positive review)\n",
            "Text: In New Orleans, an illegal immigrant feels sick and leaves a poker game while winning the smalltime criminal Blackie (Walter Jack Palance). He is chased by Blackie and his men Raymond Fitch (Zero Mostel) and Poldi (Guy Thomajan), killed by Blackie and his body is dumped in the sea. During the autopsy, the family man Lieutenant Commander Dr. Clinton Reed (Richard Widmark) of the U.S. Public Health Service finds that the dead man had pneumonic plague caused by rats and he needs to find who had any type of contact with the man within forty-eight hours to avoid an epidemic. The City Mayor assigns the skeptical Captain Tom Warren (Paul Douglas) to help Dr. Clint to find the killers that are infected with the plague and inoculate them.<br /><br />\"Panic in the Streets\" discloses a simple story, but it is still effective and with a great villain. The engaging plot has not become dated after fifty-seven years. Jack Palance performs a despicable scum in his debut, and the camera work while he tries to escape with Zero Mostel is still very impressive. My vote is seven.<br /><br />Title (Brazil): \"Pânico nas Ruas\" (\"Panic in the Streets\")\n",
            "\n",
            "---\n",
            "\n",
            "Target: 0.0 (negative review)\n",
            "Text: The Man with the Golden Arm (the movie) is a decent career vehicle for Frank Sinatra, but fails abysmally as a good adaptation of a fantastic book. You always hear about how books are \"changed\" when they are made into films- things are cut out, dumbed down, etc. Well, you can't even say they \"changed\" anything with the movie- they just told a completely different story. The characters and setting are the same sure- but not the ambiguous characterization, the depth of the men and women of Polish Chicago in the book. As for the setting, it's become merely a play stage, complete with the unnecessary \"supporting role\" players walking all too busilly down the claustrophobic, interior exterior streets. The movie is a dumbed-down, completely different take on Frankie Machine and drug addiction. When this happens, Zosh, Frankie, Sparrow, all lose their psychological edge. Frankie's drumming, a modest dream in the book, becomes his full passion in the movie (probably because Sinatra is a musician). And drug addiction is treated as shlock, exploitavely. The acting is decent, especially the snakelike Louie, who is more menacing in the movie than the book. But it's just a shame this kind of movie can be heralded as a classic alongside the book it is \"based upon,\" the real story of Frankie Machine. The movie just goes to show Hollywood can' get anything right without dumbing it down and adding a happy ending. In this case, they just changed it completely, cheapening an important and realistic story into Hollywood fluff. I'm sure as hell biased because I read the book first, so I can't really treat the movie honestly by knowing how good the book is. I actually thought about turning the movie off (and I never do that), just so I wouldn't get its silly plot confused with the beauty of the book. But this is an overrated film, and while it's not so bad, the book should come first, as it was the first. And it should have remained the only story of Division Street and Frankie Machine.\n",
            "\n",
            "---\n",
            "\n"
          ]
        }
      ]
    },
    {
      "cell_type": "code",
      "source": [
        "from sklearn.model_selection import train_test_split\n",
        "\n",
        "# Use train_test_split to split training data into training and validation sets\n",
        "train_sentences, val_sentences, train_labels, val_labels = train_test_split(imdb_data[\"review\"].to_numpy(),\n",
        "                                                                            imdb_data[\"sentiment\"].to_numpy(),\n",
        "                                                                            test_size=0.2, # dedicate 10% of samples to validation set\n",
        "                                                                            random_state=42) # random state for reproducibility"
      ],
      "metadata": {
        "id": "w0vzfeaxCi46"
      },
      "execution_count": 24,
      "outputs": []
    },
    {
      "cell_type": "code",
      "source": [
        "# Check the lengths\n",
        "len(train_sentences), len(train_labels), len(val_sentences), len(val_labels)"
      ],
      "metadata": {
        "colab": {
          "base_uri": "https://localhost:8080/"
        },
        "id": "GSlEGIrfCyEM",
        "outputId": "a09e0a44-6e45-4f07-bbc9-00829e888481"
      },
      "execution_count": 25,
      "outputs": [
        {
          "output_type": "execute_result",
          "data": {
            "text/plain": [
              "(40000, 40000, 10000, 10000)"
            ]
          },
          "metadata": {},
          "execution_count": 25
        }
      ]
    },
    {
      "cell_type": "code",
      "source": [
        "# View the first 10 training sentences and their labels\n",
        "train_sentences[:10], train_labels[:10]"
      ],
      "metadata": {
        "colab": {
          "base_uri": "https://localhost:8080/"
        },
        "id": "plraU4AqC0Sf",
        "outputId": "cd0c0516-f5bd-4511-c09b-78685e5bef1c"
      },
      "execution_count": 26,
      "outputs": [
        {
          "output_type": "execute_result",
          "data": {
            "text/plain": [
              "(array(['That\\'s what I kept asking myself during the many fights, screaming matches, swearing and general mayhem that permeate the 84 minutes. The comparisons also stand up when you think of the one-dimensional characters, who have so little depth that it is virtually impossible to care what happens to them. They are just badly written cyphers for the director to hang his multicultural beliefs on, a topic that has been done much better in other dramas both on TV and the cinema.<br /><br />I must confess, I\\'m not really one for spotting bad performances during a film, but it must be said that Nichola Burley (as the heroine\\'s slutty best friend) and Wasim Zakir (as the nasty, bullying brother) were absolutely terrible. I don\\'t know what acting school they graduated from, but if I was them I\\'d apply for a full refund post haste. Only Samina Awan in the lead role manages to impress in a cast of so-called British talent that we\\'ll probably never hear from again. At least, that\\'s the hope. Next time, hire a different scout.<br /><br />Another intriguing thought is the hideously fashionable soundtrack featuring the likes of Snow Patrol, Ian Brown and Keane. Now, I\\'m a bit of a music fan and I\\'m familiar with most of these artists output, but I didn\\'t recognise any of the tracks during this movie (apart from the omnipresent \"Run\"). B-sides, anyone? We get many, many musical montages which telegraph how we\\'re suppose to feel. These are accompanied by such startlingly original images as couples kissing by a swollen lake and canoodling in doorways. This is a problem, as none of the songs convey the mood efficiently, and we realise the director lacks the ability to carry the emotional journey to the audience through storytelling and dialogue alone.<br /><br />The ending is presumably meant to be just desserts, as everybody gets their comeuppance and there is at least one big shock in store.. But I remained resolutely unmoved because the script had given me no-one to root for. It\\'s not enough to tackle a hot-button issue, you have to actually give us a plot that hasn\\'t already been done to death and individuals who are more than window dressing. As it stands, this film is a noble failure, with only the promising lead actress and a few mildly diverting punch-ups to save it from the bin. 4/10. Must try harder..',\n",
              "        \"I did not watch the entire movie. I could not watch the entire movie. I stopped the DVD after watching for half an hour and I suggest anyone thinking of watching themselves it stop themselves before taking the disc out of the case.<br /><br />I like Mafia movies both tragic and comic but Corky Romano can only be described as a tragic attempt at a mafia comedy.<br /><br />The problem is Corky Romano simply tries too hard to get the audience to laugh, the plot seems to be an excuse for moving Chris Kattan (Corky) from one scene to another. Corky himself is completely overplayed and lacks subtlety or credulity - all his strange mannerisms come across as contrived - Chris Kattan is clearly 'acting' rather than taking a role - it bounces you right out of the story. Each scene is utterly predictable, the 'comedic event' that will occur on the set is obvious as soon as each scene is introduced. In comedies such as Mr. Bean the disasters caused by the title character are funny because you can empathise with the characters motivations and initial event and the situation the character ends up in is not telegraphed. Corky however gives the feeling that he is deliberately screwing up in a desperate attempt to draw a laugh from the audience.<br /><br />If Chris had not played such an alien character (who never really connects with the other characters in the movie) and whose behaviour is entirely inexplicable (except for trying to draw laughs) and the comedy scenes weren't so predictable and stereotyped - all the jokes seemed far too familiar) this movie could have been watchable. But it isn't. Don't watch it.\",\n",
              "        \"A touching love story reminiscent of \\x91In the Mood for Love'. Drawing heavily on Chinese poetry and how this is used by eastern people to communicate feelings to each other, the story focuses on a schoolteacher who wants so much to be a model teacher as well as a good husband and father. A senior student is very attracted to him. As the story unfolds we see the emotions below the surface in his 20 year marriage and how he grapples with the moral dilemmas that face him. A beautiful and moving story.\",\n",
              "        \"This latter-day Fulci schlocker is a totally abysmal concoction dealing with an incurable gambler (Brett Halsey) who decides Bluebeard-style to pay off his ever-rising debts by seducing some of the ugliest bitches you will ever lay your eyes on and who just happen to be wealthy widows! The Fulci-penned script also contrives to incorporate a few blackly comedic elements - which only result in some unfunny business involving a corpse which won't stay put, an opera singer victim who won't stop singing, etc. - not to mention a doppelganger theme straight out of THE STUDENT OF PRAGUE - although, in this case, the two personas communicate via pre-recorded radio messages!! In the end, I can't say I'm surprised that this film shows no sign of the sophistication of Mario Bava's HATCHET FOR THE HONEYMOON (1970) which it resembles in several ways and that it is content to merely pile up the disgustingly gory (but none-too-convincing) effects of dismembered limbs and squashed or melting faces with which, alas, Fulci had by then become completely associated.\",\n",
              "        \"First of all, I firmly believe that Norwegian movies are continually getting better. From the tedious emotional films of the 70's and 80's, movies from this place actually started to contain a bit of humour. Imagine.. Actual comedies were made! Movies were actually starting to get entertaining and funny, as opposed to long, dark, depressing and boring.<br /><br />During the 90's and 00's several really great movies were made by a 'new generation' of filmmakers. Movie after movie were praised by critics and played loads of money. It became the norm!<br /><br />Then came United...<br /><br />*MINOR SPOILERS* It's just simply not funny. Not once. Not ever. But the thing is... We THINK its funny. Because we're used to norwegian movies to be funny. Especially with a cast like this with a few really funny comedians. But.. They neither say nor do anything funny! Where's the humor? Show me the humor! Is it the awkward clerk played by Harald Eia? Is it the overacting totally ridiculously unrealistic football coach? Is it the commentaries by Arne Scheie? The movie is just not funny!<br /><br />But thats not my main rant about United. That namely is the predictability. (And it is here I fear that norwegian comedies have come to a standstill since I have seen this in many other movies as well.) All the time you just know its going to end well. All characters are exactly as they are presented in the start of the movie, and everybody gets exactly what they deserve in the end. There's absolutely no room for surprises at all!<br /><br />All in all I can say that I sat with a bad feeling after seeing this movie. It was the one movie that made me realize that we probably need some new blood in norwegian movie making... again!<br /><br />Rating: 1/6\",\n",
              "        \"I don't know how this movie received so many positive reviews on this site! I'm a big vonnegut fan and am very familiar with the story this Showtime original film bastardized beyond belief, but even if I wasn't, the poor acting, VERY poor casting (Sean Astin as the brilliant, athletic, and all around individual, Harrison?? The guy's completely generic!) and sub-standard writing rendered this tripe barely watchable. Someone pointed out how cute that Maculay Culkin line was. If you read that and thought that was pure comic brilliance (sadly, it probably was the most INTENTIONALLY funny part of the movie), maybe you'll like this movie. But if you're a Vonnegut fan or not completely insane, don't see it. Please.\",\n",
              "        'Nightmare Weekend stars a cast of ridiculous actors with even less of an idea of what is going on than the director had, if you can imagine that. There is no decipherable plot or story, the special effects are a joke, and even the sound is terrible. This film was directed by Henry Sala. It was the only film that he ever directed, and the reason is obvious.',\n",
              "        ':::SPOILER ALERT:::<br /><br />Soooo, Arnie\\'s really a good guy, but after an incident with some fighting in a helicopter and some disobeying of orders, he\\'s sent to jail (or rather some sort of work camp). He escapes, but after a short while he\\'s caught once again. This time ends up in a freakish reality show in which he\\'s supposed to run for a while from a bunch of tough guys with different themes, and eventually die. But we all know Arnie, and we all know that he\\'s tougher than even the toughest of tough guys.<br /><br />I really wanted to like this movie, being an Arnie-fan and all. However, \"The Running Man\" contains too many flaws that really annoy the crap out of me. E.g. The reconstruction of Arnie\\'s fight inside the helicopter, where the shocked audience is showed a short summary of the incident, complete with 5-10 different camera angles. This means that the military helicopter in which Arnie flew was equipped with almost 10 cameras filming the crew members, one of which _inside_ the eye of one of the crew members Arnie beats.<br /><br />There are other flaws also, and the plot, which in theory seems to be very interesting and innovative, works for a while, then it sort of creates a pool of stupidness and unrealism in which it drowns.<br /><br />The acting can\\'t really be said to be anything better than sub par, with Arnie in the leading role, doing an average Arnie performance. The rest of the cast get by without being especially good or bad.<br /><br />The special effects are OK, without being impressive.<br /><br />RATING: 3/10',\n",
              "        'The people who are bad-mouthing this film are those who don\\'t understand film to begin with. These are the people who love movie blockbusters and adverse to any movie that doesn\\'t star Leonardo DiCaprio. Wilder Napalm is a neat little film that may seem quirky and maybe even stupid at first, but what it lacks in plot, it more than makes up for in substance.<br /><br />One thing in particular about the movie that impressed me was it\\'s use of music, which plays a large part. Those students of film music will notice how important music is in the movie, both in Vida and Wilder\\'s life, and in the background. Wilder\\'s theme, Vida\\'s theme, and Wallace\\'s theme are all heard in the opening sequence, and it is funny how some of the lyrics play out. For instance, in the scene where the men are singing \"Duke of Earl\", Vida is with Wilder when the men sing something like \"She is my girl\", and then she goes over to Wallace to give him something when the men sing the lyric \"She will be my girl\" cleverly showing the tension between the two brothers There are all sorts of little intricacies like this inside the movie, and while it may look like a flop on the outside, the real student of film will notice how good this movie really is.',\n",
              "        '<br /><br />As usual, I was really looking forward to a new TV/film on a favourite subject of mine - makes a nice change from a *strangely familiar* documentary about Kursk or Stalingrad on the History Channel.<br /><br />I avidly looked forward to Pearl Harbour and Enemy at the Gates - but was rudely brought down to earth with the realisation of the malevolent, stupid-ifying power of Hollywood - and its ability to spend an absolute fortune on tripe.<br /><br />So yet again I got excited about \\'The Rise of Evil\\', especially as I heard that Ian Kershaw was involved, as I\\'ve enjoyed his books. I can see why he quit.<br /><br />To quote some guy responsible for this rubbish:<br /><br />\"The Kershaw book was an academic piece,\" he said. \"It was<br /><br />quite dry. We needed more incidents.\" <br /><br />Incidents? Are they totally nuts? Hitler\\'s life cannot be said to be without \\'incident\\' - yes Kershaw\\'s two volume Hitler biographies were long and detailed, but they were supposed to be.<br /><br />The thesis behind \\'Rise of Evil\\' seems to be:<br /><br />Hitler was a very bad man - no he was a VERY bad man, who HATED jews, and just in case you miss this, we\\'re going to emphasise the fact in EVERY scene in the film.<br /><br />There was no effort whatsoever to try and explain the mood of the time, and why Hitler may have adopted the views and strategy he did. Needless to say - unlike the generally excellent \\'Nazis - A Warning from History\\' - this film neglected to point out the fact that nearly all of the leaders of the Munich communist rising were Jewish, and that this may have coloured his views on the subject - and his axiomatic linking of the jews with Bolshevism - an absolutely crucial aspect to understanding much of the Nazi era.<br /><br />But there was not much understanding to be done - the film-makers weren\\'t going to go there, so we just got all the stuff we knew about anyway. We certainly don\\'t get the fascinating fact that Kershaw alludes to, which has Hitler briefly being a socialist/communist immediately after WW1. That would of course be far too complex for the film to handle, and might even detract from the relentless \\'he was very bad\\' mantra which bangs away incessantly.<br /><br />We know he was a bad man. However, we also know that he was a mesmerising figure both as a public speaker and in more private situations. He could be polite and even sympathetic, and of course espoused some views like vegetarianism, anti-alcohol and anti-smoking that many Guardian readers could agree with. He was also famously fond of animals, hence why that wholly invented dog-flogging scene was so absurd.<br /><br />He was also, from all the accounts I\\'ve seen, a brave soldier in WW1. Whilst we saw him with his Iron Cross, we never get to see how he won it (acts of bravery were not in the script, needless to say). We also get no insight whatsoever into why he was so fired up by his war experiences, whilst Sassoon, Owen, Brook, Remarque and so many others found it so repellent an experience. And again, like the point above re the jewish/bolshevik link, this is vital to anyone\\'s understanding about the subject. Why did he love war so much? Why did he think it was always a good idea, despite massive evidence to the contrary? Why didn\\'t he care about his colleagues who died? Or maybe he did - but still drew the wrong conclusions.<br /><br />This film certainly didn\\'t have anything of any interest to say on this either.<br /><br />As all too often these days, the film is a classic example of \\'making history relevant to the present\\' and inventing stuff or leaving awkward facts out to fit in with \\'the present\\' - which all too often is to cater to the lowest common denominator, where you don\\'t trust your audience an inch, so you just ram stuff down their throats, knowing (sadly correctly) that you\\'ll always get away with it because there are so many dumb fools in the world.<br /><br />History is really about making us relevant to the past and seeing how it colours our present, for better and for worse. This rubbish was a great opportunity, lost again. They spent millions on it, and the locations and large scenes were impressive, but told us nothing at all we didn\\'t know already, and promoted no understanding of this dark period in human history.<br /><br />WT'],\n",
              "       dtype=object), array([0., 0., 1., 0., 0., 0., 0., 0., 1., 0.]))"
            ]
          },
          "metadata": {},
          "execution_count": 26
        }
      ]
    },
    {
      "cell_type": "markdown",
      "source": [
        "# Text vectorization (tokenization)"
      ],
      "metadata": {
        "id": "EhhKtqtlC5j9"
      }
    },
    {
      "cell_type": "code",
      "source": [
        "import tensorflow as tf\n",
        "\n",
        "# Use the default TextVectorization variables\n",
        "text_vectorizer = tf.keras.layers.TextVectorization(max_tokens=None, # how many words in the vocabulary (all of the different words in your text)\n",
        "                                                    standardize=\"lower_and_strip_punctuation\", # how to process text\n",
        "                                                    split=\"whitespace\", # how to split tokens\n",
        "                                                    ngrams=None, # create groups of n-words?\n",
        "                                                    output_mode=\"int\", # how to map tokens to numbers\n",
        "                                                    output_sequence_length=None) # how long should the output sequence of tokens be?\n",
        "                                                    # pad_to_max_tokens=True) # Not valid if using max_tokens=None"
      ],
      "metadata": {
        "id": "wMI52XdcC2up"
      },
      "execution_count": 27,
      "outputs": []
    },
    {
      "cell_type": "code",
      "source": [
        "# Find average number of tokens (words) in training Tweets\n",
        "round(sum([len(i.split()) for i in train_sentences])/len(train_sentences))"
      ],
      "metadata": {
        "colab": {
          "base_uri": "https://localhost:8080/"
        },
        "id": "37d3aQc1C7nL",
        "outputId": "7dced7b7-5ea6-481b-c8bd-4e4c0df12429"
      },
      "execution_count": 28,
      "outputs": [
        {
          "output_type": "execute_result",
          "data": {
            "text/plain": [
              "231"
            ]
          },
          "metadata": {},
          "execution_count": 28
        }
      ]
    },
    {
      "cell_type": "markdown",
      "source": [
        "This is a slightly larger dataset with ~double the size of sentences than the yelp dataset, so we will see how Recurrent Neural Networks Perform on this"
      ],
      "metadata": {
        "id": "a_Nb4C__DAmF"
      }
    },
    {
      "cell_type": "code",
      "source": [
        "from tensorflow.keras.layers import TextVectorization\n",
        "\n",
        "# Setup text vectorization with custom variables\n",
        "max_vocab_length = 10000 # max number of words to have in our vocabulary\n",
        "max_length = 15 # max length our sequences will be (e.g. how many words from a Tweet does our model see?)\n",
        "\n",
        "text_vectorizer = TextVectorization(max_tokens=max_vocab_length,\n",
        "                                    output_mode=\"int\",\n",
        "                                    output_sequence_length=max_length)"
      ],
      "metadata": {
        "id": "aQh8bWDMC-JI"
      },
      "execution_count": 29,
      "outputs": []
    },
    {
      "cell_type": "code",
      "source": [
        "# Fit the text vectorizer to the training text\n",
        "text_vectorizer.adapt(train_sentences)"
      ],
      "metadata": {
        "id": "mL2P7PX4DVKm"
      },
      "execution_count": 30,
      "outputs": []
    },
    {
      "cell_type": "code",
      "source": [
        "# Create sample sentence and tokenize it\n",
        "sample_sentence = \"There's a flood in my street!\"\n",
        "text_vectorizer([sample_sentence])"
      ],
      "metadata": {
        "colab": {
          "base_uri": "https://localhost:8080/"
        },
        "id": "R3FN8ETLDXoW",
        "outputId": "4e33eb73-9d31-40d4-97d0-32e4e8033496"
      },
      "execution_count": 31,
      "outputs": [
        {
          "output_type": "execute_result",
          "data": {
            "text/plain": [
              "<tf.Tensor: shape=(1, 15), dtype=int64, numpy=\n",
              "array([[ 215,    4, 6848,    8,   54,  948,    0,    0,    0,    0,    0,\n",
              "           0,    0,    0,    0]])>"
            ]
          },
          "metadata": {},
          "execution_count": 31
        }
      ]
    },
    {
      "cell_type": "code",
      "source": [
        "# Choose a random sentence from the training dataset and tokenize it\n",
        "random_sentence = random.choice(train_sentences)\n",
        "print(f\"Original text:\\n{random_sentence}\\\n",
        "      \\n\\nVectorized version:\")\n",
        "text_vectorizer([random_sentence])"
      ],
      "metadata": {
        "colab": {
          "base_uri": "https://localhost:8080/"
        },
        "id": "jPtS_bhADZO9",
        "outputId": "90c48e77-515a-4f4b-9b9a-32bd4bfe3adc"
      },
      "execution_count": 32,
      "outputs": [
        {
          "output_type": "stream",
          "name": "stdout",
          "text": [
            "Original text:\n",
            "I'm sorry, but I just can't help it, I love watching Iron Eagle. Now, do not misunderstand me, I am not saying that this is a great movie. No, rather, I would put it that this is an endlessly entertaining movie. For people who cut this movie to pieces for not being realistic are kinda missing the point. Of course Iron Eagle's plot was ridiculous. But I believe its target audience was kids, and I sure remember finding this cool when I was little. Now I just find it amusing as a guilty pleasure, kinda like Road House. This movie is part of the great pantheon of 80's, kids-taking-on-the-stodgy-adult-power-structure movies. You must remember D.A.R.Y.L, Real Genius, E.T., etc. If you ask me, just watching Doug and Knotcher \"Ride the Snake\" in the beginning is worth the cost of the DVD. That whole sequence was so STUPID! But, at the same time, it was hilarious, funny, totally 80's, all that good stuff. So bottom line, Iron Eagle is a great 80's guilty pleasure. The hairstyles, the dancing, the music, the dialogue, its all funny as hell. I have Iron Eagle on DVD and to me it was totally worth $9.99 at Best Buy. If you love laughing at dated, unrealistic action movies, this one is a must-see. Oh yeah, and I think its plot was only marginally stupider than 1986's other fighter pilot action pic, Top Gun.      \n",
            "\n",
            "Vectorized version:\n"
          ]
        },
        {
          "output_type": "execute_result",
          "data": {
            "text/plain": [
              "<tf.Tensor: shape=(1, 15), dtype=int64, numpy=\n",
              "array([[ 142,  763,   19,   10,   40,  174,  336,    9,   10,  112,  146,\n",
              "        4122, 7245,  149,   77]])>"
            ]
          },
          "metadata": {},
          "execution_count": 32
        }
      ]
    },
    {
      "cell_type": "code",
      "source": [
        "# Get the unique words in the vocabulary\n",
        "words_in_vocab = text_vectorizer.get_vocabulary()\n",
        "top_5_words = words_in_vocab[:5] # most common tokens (notice the [UNK] token for \"unknown\" words)\n",
        "bottom_5_words = words_in_vocab[-5:] # least common tokens\n",
        "print(f\"Number of words in vocab: {len(words_in_vocab)}\")\n",
        "print(f\"Top 5 most common words: {top_5_words}\") \n",
        "print(f\"Bottom 5 least common words: {bottom_5_words}\")"
      ],
      "metadata": {
        "colab": {
          "base_uri": "https://localhost:8080/"
        },
        "id": "X5gpQWPRDbZ-",
        "outputId": "42d7d3e1-7c6c-4ddb-c781-4d2bebd1764f"
      },
      "execution_count": 33,
      "outputs": [
        {
          "output_type": "stream",
          "name": "stdout",
          "text": [
            "Number of words in vocab: 10000\n",
            "Top 5 most common words: ['', '[UNK]', 'the', 'and', 'a']\n",
            "Bottom 5 least common words: ['dreyfuss', 'dogma', 'discussions', 'discipline', 'dimensions']\n"
          ]
        }
      ]
    },
    {
      "cell_type": "markdown",
      "source": [
        "# Embedding Layer"
      ],
      "metadata": {
        "id": "eZuXxKUJDjx7"
      }
    },
    {
      "cell_type": "code",
      "source": [
        "tf.random.set_seed(42)\n",
        "from tensorflow.keras.layers import Embedding\n",
        "\n",
        "embedding = Embedding(input_dim=max_vocab_length, # set input shape\n",
        "                      output_dim=128, # set size of embedding vector\n",
        "                      embeddings_initializer=\"uniform\", # default, intialize randomly\n",
        "                      input_length=max_length, # how long is each input\n",
        "                      name=\"embedding_1\") \n",
        "\n",
        "embedding"
      ],
      "metadata": {
        "colab": {
          "base_uri": "https://localhost:8080/"
        },
        "id": "KvcWb2tVDgXW",
        "outputId": "e5610df5-bd1a-4656-e871-5b9285979664"
      },
      "execution_count": 34,
      "outputs": [
        {
          "output_type": "execute_result",
          "data": {
            "text/plain": [
              "<keras.layers.embeddings.Embedding at 0x7fbb50294b10>"
            ]
          },
          "metadata": {},
          "execution_count": 34
        }
      ]
    },
    {
      "cell_type": "code",
      "source": [
        "# Get a random sentence from training set\n",
        "random_sentence = random.choice(train_sentences)\n",
        "print(f\"Original text:\\n{random_sentence}\\\n",
        "      \\n\\nEmbedded version:\")\n",
        "\n",
        "# Embed the random sentence (turn it into numerical representation)\n",
        "sample_embed = embedding(text_vectorizer([random_sentence]))\n",
        "sample_embed"
      ],
      "metadata": {
        "colab": {
          "base_uri": "https://localhost:8080/"
        },
        "id": "JCKaoW2wDnjU",
        "outputId": "eb6e9c00-f640-49b7-906c-90095e10973e"
      },
      "execution_count": 35,
      "outputs": [
        {
          "output_type": "stream",
          "name": "stdout",
          "text": [
            "Original text:\n",
            "Yes, I felt like I had been gutted after first seeing it. But not until the next day did I begin to see the true brilliance of this creation. I won't repeat much of what has already been said by those who appreciate the film, but there is one new area I want to touch on... **SPOILERS** Why exactly did the teacher put the broken glass in the student's pocket? Most reviewers have noted that it only reflected her cruelty and reaction to an unsatisfactory performance. I must disagree. Watch the scene again. Huppert is moved to tears as she watches her student playing on stage. The student is quite an expressive girl (crying & vocalizing her fears)- just the opposite of Huppert's character. There is a scene later in the film, after the girl is injured, when Huppert discusses the accident with the girl's mother. The mother, visibly upset, states \"We gave up everything so she could study piano\" and Huppert immediately snaps \"You mean SHE gave up everything, don't you.\"<br /><br />So it was my thought that Huppert was simply saving this young expressive student from her own destiny. She didn't want the girl to end up like HER, repressed & hardened, condemned to a life of recitals...gradually killing the soul in the pursuit of perfection. Maybe she saw herself on the stage years ago, before things grew bad. Maybe she wished she had escaped when she was that age. Is she ruining the student's life, or simply freeing her?<br /><br />For me, that realization made all the difference in what I experienced through this film. Brilliant.      \n",
            "\n",
            "Embedded version:\n"
          ]
        },
        {
          "output_type": "execute_result",
          "data": {
            "text/plain": [
              "<tf.Tensor: shape=(1, 15, 128), dtype=float32, numpy=\n",
              "array([[[ 1.40730254e-02, -2.31848247e-02,  2.45943666e-05, ...,\n",
              "          1.65633224e-02,  4.49469127e-02,  1.35319345e-02],\n",
              "        [-3.50819454e-02,  1.44847147e-02,  5.13797998e-03, ...,\n",
              "          4.48515527e-02,  3.97636406e-02, -3.54361907e-02],\n",
              "        [-1.86735392e-02, -3.29848155e-02, -1.06270686e-02, ...,\n",
              "          2.29313262e-02,  2.78601758e-02,  4.08717506e-02],\n",
              "        ...,\n",
              "        [ 2.27151848e-02, -3.20442915e-02,  1.66398287e-03, ...,\n",
              "         -8.96944851e-03, -2.77845860e-02, -4.29066792e-02],\n",
              "        [ 3.21087874e-02,  1.65066756e-02,  1.40311830e-02, ...,\n",
              "          1.47701167e-02,  3.27510871e-02,  3.08426470e-03],\n",
              "        [-1.65944323e-02,  1.00136288e-02,  2.66844034e-03, ...,\n",
              "          1.60881914e-02, -3.40095051e-02, -2.45498307e-02]]],\n",
              "      dtype=float32)>"
            ]
          },
          "metadata": {},
          "execution_count": 35
        }
      ]
    },
    {
      "cell_type": "code",
      "source": [
        "# Check out a single token's embedding\n",
        "sample_embed[0][0]"
      ],
      "metadata": {
        "colab": {
          "base_uri": "https://localhost:8080/"
        },
        "id": "1UM2PZcrDpTW",
        "outputId": "3b21722d-94b7-45a5-f81f-c0a76651e8a8"
      },
      "execution_count": 36,
      "outputs": [
        {
          "output_type": "execute_result",
          "data": {
            "text/plain": [
              "<tf.Tensor: shape=(128,), dtype=float32, numpy=\n",
              "array([ 1.40730254e-02, -2.31848247e-02,  2.45943666e-05,  4.32557128e-02,\n",
              "        2.16743611e-02, -4.45352569e-02,  3.57022993e-02,  7.18886778e-03,\n",
              "       -2.17120890e-02,  6.64915890e-03,  4.14780714e-02,  6.21144846e-03,\n",
              "        2.13538744e-02, -4.40125950e-02,  3.63845862e-02,  4.31442596e-02,\n",
              "        1.04759708e-02, -3.47093828e-02,  1.17167458e-02, -8.10753182e-03,\n",
              "        4.33361530e-03,  3.66550945e-02,  2.83457674e-02,  3.38818096e-02,\n",
              "        3.11259292e-02,  1.86030529e-02,  1.12861395e-03,  2.72339098e-02,\n",
              "        4.99058701e-02, -4.19099107e-02,  2.96626128e-02,  9.93553549e-03,\n",
              "       -2.77405381e-02,  8.86525959e-03, -9.24371183e-04,  4.10688184e-02,\n",
              "       -2.56628282e-02,  6.65890053e-03,  4.56148498e-02, -1.77531242e-02,\n",
              "       -1.73868313e-02,  3.04127447e-02,  7.48013332e-03, -4.12644744e-02,\n",
              "       -2.12724451e-02,  2.33822130e-02,  2.01295726e-02, -3.14401388e-02,\n",
              "        4.81969453e-02,  4.86204661e-02,  4.09673192e-02,  3.43953855e-02,\n",
              "        1.55341960e-02, -3.96467745e-04,  4.59408872e-02, -2.91721895e-03,\n",
              "        1.77634880e-03,  1.37106068e-02,  4.18721922e-02,  2.88313963e-02,\n",
              "        4.38308381e-02,  2.37395205e-02, -1.34440511e-03,  7.19632953e-03,\n",
              "        4.41784002e-02,  3.46609093e-02, -3.42872031e-02, -1.65490061e-03,\n",
              "       -4.57130373e-04,  3.29088420e-04, -3.77751365e-02,  4.23467793e-02,\n",
              "       -9.35852528e-04, -4.57011126e-02,  8.93385336e-03,  2.35305168e-02,\n",
              "        1.26688965e-02,  3.59157436e-02, -2.36859079e-02,  3.54227684e-02,\n",
              "        1.76870935e-02,  2.05962174e-02,  3.50461937e-02,  3.92368175e-02,\n",
              "        1.96028389e-02, -2.47309450e-02, -2.81553026e-02, -4.46928516e-02,\n",
              "        4.16447185e-02,  4.53536846e-02, -5.25100157e-03,  3.34526934e-02,\n",
              "       -8.30949470e-03, -3.66532095e-02,  4.98261936e-02, -1.46187656e-02,\n",
              "       -2.25291979e-02,  2.42439397e-02,  2.84745358e-02,  2.48865820e-02,\n",
              "       -2.47065313e-02,  2.96744965e-02,  1.76675655e-02,  1.35651715e-02,\n",
              "        3.79086174e-02,  4.40551974e-02, -4.26350906e-03, -3.00166849e-02,\n",
              "       -1.82782412e-02, -1.73586830e-02, -7.05785677e-03,  2.01009400e-02,\n",
              "       -4.14917096e-02, -3.53536718e-02,  4.48654033e-02,  1.19962469e-02,\n",
              "        1.53110139e-02, -8.50854069e-03, -4.50813435e-02,  2.02090852e-02,\n",
              "       -3.40755209e-02, -2.83296034e-03,  7.17742369e-03,  3.02421711e-02,\n",
              "       -1.39602795e-02,  1.65633224e-02,  4.49469127e-02,  1.35319345e-02],\n",
              "      dtype=float32)>"
            ]
          },
          "metadata": {},
          "execution_count": 36
        }
      ]
    },
    {
      "cell_type": "markdown",
      "source": [
        "# Baseline Model : Naive Bayes"
      ],
      "metadata": {
        "id": "WHXHcZkODvVo"
      }
    },
    {
      "cell_type": "code",
      "source": [
        "from sklearn.feature_extraction.text import TfidfVectorizer\n",
        "from sklearn.naive_bayes import MultinomialNB\n",
        "from sklearn.pipeline import Pipeline\n",
        "\n",
        "# Create tokenization and modelling pipeline\n",
        "model_0 = Pipeline([\n",
        "                    (\"tfidf\", TfidfVectorizer()), # convert words to numbers using tfidf\n",
        "                    (\"clf\", MultinomialNB()) # model the text\n",
        "])\n",
        "\n",
        "# Fit the pipeline to the training data\n",
        "model_0.fit(train_sentences, train_labels)"
      ],
      "metadata": {
        "colab": {
          "base_uri": "https://localhost:8080/"
        },
        "id": "PymRErdtDs4E",
        "outputId": "b2f1d118-842f-4d78-fdf2-720a2d92d17f"
      },
      "execution_count": 37,
      "outputs": [
        {
          "output_type": "execute_result",
          "data": {
            "text/plain": [
              "Pipeline(steps=[('tfidf', TfidfVectorizer()), ('clf', MultinomialNB())])"
            ]
          },
          "metadata": {},
          "execution_count": 37
        }
      ]
    },
    {
      "cell_type": "code",
      "source": [
        "baseline_score = model_0.score(val_sentences, val_labels)\n",
        "print(f\"Our baseline model achieves an accuracy of: {baseline_score*100:.2f}%\")"
      ],
      "metadata": {
        "colab": {
          "base_uri": "https://localhost:8080/"
        },
        "id": "0i4WeM56DxcK",
        "outputId": "e1aeb956-3791-4178-e98c-18d6bde5b97f"
      },
      "execution_count": 38,
      "outputs": [
        {
          "output_type": "stream",
          "name": "stdout",
          "text": [
            "Our baseline model achieves an accuracy of: 86.35%\n"
          ]
        }
      ]
    },
    {
      "cell_type": "code",
      "source": [
        "# Make predictions\n",
        "baseline_preds = model_0.predict(val_sentences)\n",
        "baseline_preds[:20]"
      ],
      "metadata": {
        "colab": {
          "base_uri": "https://localhost:8080/"
        },
        "id": "IWKxySKDD1UK",
        "outputId": "54003e5f-9a45-4e7d-dd2b-d75139ab1da2"
      },
      "execution_count": 39,
      "outputs": [
        {
          "output_type": "execute_result",
          "data": {
            "text/plain": [
              "array([1., 1., 0., 1., 0., 1., 1., 0., 0., 0., 0., 1., 0., 0., 0., 1., 1.,\n",
              "       1., 1., 0.])"
            ]
          },
          "metadata": {},
          "execution_count": 39
        }
      ]
    },
    {
      "cell_type": "code",
      "source": [
        "# Function to evaluate: accuracy, precision, recall, f1-score\n",
        "from sklearn.metrics import accuracy_score, precision_recall_fscore_support\n",
        "\n",
        "def calculate_results(y_true, y_pred):\n",
        "  \"\"\"\n",
        "  Calculates model accuracy, precision, recall and f1 score of a binary classification model.\n",
        "\n",
        "  Args:\n",
        "  -----\n",
        "  y_true = true labels in the form of a 1D array\n",
        "  y_pred = predicted labels in the form of a 1D array\n",
        "\n",
        "  Returns a dictionary of accuracy, precision, recall, f1-score.\n",
        "  \"\"\"\n",
        "  # Calculate model accuracy\n",
        "  model_accuracy = accuracy_score(y_true, y_pred) * 100\n",
        "  # Calculate model precision, recall and f1 score using \"weighted\" average\n",
        "  model_precision, model_recall, model_f1, _ = precision_recall_fscore_support(y_true, y_pred, average=\"weighted\")\n",
        "  model_results = {\"accuracy\": model_accuracy,\n",
        "                  \"precision\": model_precision,\n",
        "                  \"recall\": model_recall,\n",
        "                  \"f1\": model_f1}\n",
        "  return model_results"
      ],
      "metadata": {
        "id": "PljThIucD3I0"
      },
      "execution_count": 40,
      "outputs": []
    },
    {
      "cell_type": "code",
      "source": [
        "# Get baseline results\n",
        "baseline_results = calculate_results(y_true=val_labels,\n",
        "                                     y_pred=baseline_preds)\n",
        "baseline_results"
      ],
      "metadata": {
        "colab": {
          "base_uri": "https://localhost:8080/"
        },
        "id": "HwI3DzqmD4_1",
        "outputId": "f13a052e-905f-4586-e04b-e293cc265f0d"
      },
      "execution_count": 41,
      "outputs": [
        {
          "output_type": "execute_result",
          "data": {
            "text/plain": [
              "{'accuracy': 86.35000000000001,\n",
              " 'f1': 0.8634395461109965,\n",
              " 'precision': 0.8644863715548691,\n",
              " 'recall': 0.8635}"
            ]
          },
          "metadata": {},
          "execution_count": 41
        }
      ]
    },
    {
      "cell_type": "markdown",
      "source": [
        "# Model 1: A simple dense model"
      ],
      "metadata": {
        "id": "gxlRETSBD9T4"
      }
    },
    {
      "cell_type": "code",
      "source": [
        "# Build model with the Functional API\n",
        "from tensorflow.keras import layers\n",
        "inputs = layers.Input(shape=(1,), dtype=\"string\") # inputs are 1-dimensional strings\n",
        "x = text_vectorizer(inputs) # turn the input text into numbers\n",
        "x = embedding(x) # create an embedding of the numerized numbers\n",
        "x = layers.GlobalAveragePooling1D()(x) # lower the dimensionality of the embedding (try running the model without this layer and see what happens)\n",
        "outputs = layers.Dense(1, activation=\"sigmoid\")(x) # create the output layer, want binary outputs so use sigmoid activation\n",
        "model_1 = tf.keras.Model(inputs, outputs, name=\"model_1_dense\") # construct the model"
      ],
      "metadata": {
        "id": "yo26Gw1XD6es"
      },
      "execution_count": 42,
      "outputs": []
    },
    {
      "cell_type": "code",
      "source": [
        "# Compile model\n",
        "model_1.compile(loss=\"binary_crossentropy\",\n",
        "                optimizer=tf.keras.optimizers.Adam(),\n",
        "                metrics=[\"accuracy\"])"
      ],
      "metadata": {
        "id": "uiLhAz5BD_y2"
      },
      "execution_count": 43,
      "outputs": []
    },
    {
      "cell_type": "code",
      "source": [
        "# Get a summary of the model\n",
        "model_1.summary()"
      ],
      "metadata": {
        "colab": {
          "base_uri": "https://localhost:8080/"
        },
        "id": "M5Up5itvEBHS",
        "outputId": "e107fb75-2fc0-40f0-b364-e9d8c674e022"
      },
      "execution_count": 44,
      "outputs": [
        {
          "output_type": "stream",
          "name": "stdout",
          "text": [
            "Model: \"model_1_dense\"\n",
            "_________________________________________________________________\n",
            " Layer (type)                Output Shape              Param #   \n",
            "=================================================================\n",
            " input_1 (InputLayer)        [(None, 1)]               0         \n",
            "                                                                 \n",
            " text_vectorization_1 (TextV  (None, 15)               0         \n",
            " ectorization)                                                   \n",
            "                                                                 \n",
            " embedding_1 (Embedding)     (None, 15, 128)           1280000   \n",
            "                                                                 \n",
            " global_average_pooling1d (G  (None, 128)              0         \n",
            " lobalAveragePooling1D)                                          \n",
            "                                                                 \n",
            " dense (Dense)               (None, 1)                 129       \n",
            "                                                                 \n",
            "=================================================================\n",
            "Total params: 1,280,129\n",
            "Trainable params: 1,280,129\n",
            "Non-trainable params: 0\n",
            "_________________________________________________________________\n"
          ]
        }
      ]
    },
    {
      "cell_type": "code",
      "source": [
        "# Fit the model\n",
        "model_1_history = model_1.fit(train_sentences, # input sentences can be a list of strings due to text preprocessing layer built-in model\n",
        "                              train_labels,\n",
        "                              epochs=5,\n",
        "                              validation_data=(val_sentences, val_labels))"
      ],
      "metadata": {
        "colab": {
          "base_uri": "https://localhost:8080/"
        },
        "id": "7vNlEBbeECPk",
        "outputId": "c93f8d5f-ecda-4b06-ed4f-303fe4a6d2f3"
      },
      "execution_count": 45,
      "outputs": [
        {
          "output_type": "stream",
          "name": "stdout",
          "text": [
            "Epoch 1/5\n",
            "1250/1250 [==============================] - 11s 6ms/step - loss: 0.5984 - accuracy: 0.6739 - val_loss: 0.5615 - val_accuracy: 0.7042\n",
            "Epoch 2/5\n",
            "1250/1250 [==============================] - 7s 6ms/step - loss: 0.5088 - accuracy: 0.7492 - val_loss: 0.5637 - val_accuracy: 0.7088\n",
            "Epoch 3/5\n",
            "1250/1250 [==============================] - 7s 6ms/step - loss: 0.4773 - accuracy: 0.7696 - val_loss: 0.5779 - val_accuracy: 0.7012\n",
            "Epoch 4/5\n",
            "1250/1250 [==============================] - 7s 6ms/step - loss: 0.4598 - accuracy: 0.7789 - val_loss: 0.5921 - val_accuracy: 0.7002\n",
            "Epoch 5/5\n",
            "1250/1250 [==============================] - 7s 6ms/step - loss: 0.4482 - accuracy: 0.7863 - val_loss: 0.6057 - val_accuracy: 0.6979\n"
          ]
        }
      ]
    },
    {
      "cell_type": "code",
      "source": [
        "# Check the results\n",
        "model_1.evaluate(val_sentences, val_labels)"
      ],
      "metadata": {
        "colab": {
          "base_uri": "https://localhost:8080/"
        },
        "id": "Y89T4nQNED8M",
        "outputId": "493cd1cf-3788-4c77-cb93-c7d0b767921a"
      },
      "execution_count": 46,
      "outputs": [
        {
          "output_type": "stream",
          "name": "stdout",
          "text": [
            "313/313 [==============================] - 1s 4ms/step - loss: 0.6057 - accuracy: 0.6979\n"
          ]
        },
        {
          "output_type": "execute_result",
          "data": {
            "text/plain": [
              "[0.6056683659553528, 0.6978999972343445]"
            ]
          },
          "metadata": {},
          "execution_count": 46
        }
      ]
    },
    {
      "cell_type": "code",
      "source": [
        "embedding.weights"
      ],
      "metadata": {
        "colab": {
          "base_uri": "https://localhost:8080/"
        },
        "id": "JWG3J8MjEFQE",
        "outputId": "0d77584f-e2fe-44db-fe04-2281048009a6"
      },
      "execution_count": 47,
      "outputs": [
        {
          "output_type": "execute_result",
          "data": {
            "text/plain": [
              "[<tf.Variable 'embedding_1/embeddings:0' shape=(10000, 128) dtype=float32, numpy=\n",
              " array([[-0.11563093,  0.13729468, -0.1390477 , ..., -0.16863911,\n",
              "         -0.11325146,  0.12706025],\n",
              "        [ 0.0395038 , -0.03329949, -0.03419673, ...,  0.01194134,\n",
              "          0.03438206,  0.02659249],\n",
              "        [ 0.02147713,  0.03477412,  0.01347086, ..., -0.05110358,\n",
              "         -0.03045834, -0.00156695],\n",
              "        ...,\n",
              "        [ 0.12656367, -0.16491565,  0.1165282 , ...,  0.18022917,\n",
              "          0.1615209 , -0.13690914],\n",
              "        [-0.05602586,  0.12081904, -0.0888207 , ..., -0.12294389,\n",
              "         -0.07914767,  0.10369805],\n",
              "        [-0.16675712,  0.19221689, -0.20682998, ..., -0.15238522,\n",
              "         -0.21881865,  0.14998798]], dtype=float32)>]"
            ]
          },
          "metadata": {},
          "execution_count": 47
        }
      ]
    },
    {
      "cell_type": "code",
      "source": [
        "embed_weights = model_1.get_layer(\"embedding_1\").get_weights()[0]\n",
        "print(embed_weights.shape)"
      ],
      "metadata": {
        "colab": {
          "base_uri": "https://localhost:8080/"
        },
        "id": "TulNOQi6EGdR",
        "outputId": "1ac47669-d1e9-4e89-91f9-69c4eb6ceb5e"
      },
      "execution_count": 48,
      "outputs": [
        {
          "output_type": "stream",
          "name": "stdout",
          "text": [
            "(10000, 128)\n"
          ]
        }
      ]
    },
    {
      "cell_type": "code",
      "source": [
        "# Make predictions (these come back in the form of probabilities)\n",
        "model_1_pred_probs = model_1.predict(val_sentences)\n",
        "model_1_pred_probs[:10] # only print out the first 10 prediction probabilities"
      ],
      "metadata": {
        "colab": {
          "base_uri": "https://localhost:8080/"
        },
        "id": "5Q3Nh7xGEJrN",
        "outputId": "491f8d3a-08aa-4e84-9e75-263fd3db966d"
      },
      "execution_count": 49,
      "outputs": [
        {
          "output_type": "execute_result",
          "data": {
            "text/plain": [
              "array([[0.80408233],\n",
              "       [0.9371754 ],\n",
              "       [0.23374875],\n",
              "       [0.6992808 ],\n",
              "       [0.35304055],\n",
              "       [0.76282775],\n",
              "       [0.8491663 ],\n",
              "       [0.40683427],\n",
              "       [0.6162203 ],\n",
              "       [0.53394747]], dtype=float32)"
            ]
          },
          "metadata": {},
          "execution_count": 49
        }
      ]
    },
    {
      "cell_type": "code",
      "source": [
        "# Turn prediction probabilities into single-dimension tensor of floats\n",
        "model_1_preds = tf.squeeze(tf.round(model_1_pred_probs)) # squeeze removes single dimensions\n",
        "model_1_preds[:20]"
      ],
      "metadata": {
        "colab": {
          "base_uri": "https://localhost:8080/"
        },
        "id": "nUTvK3EQELO6",
        "outputId": "c75e46f0-b5a0-4efe-8d5a-5aa3570ccfab"
      },
      "execution_count": 50,
      "outputs": [
        {
          "output_type": "execute_result",
          "data": {
            "text/plain": [
              "<tf.Tensor: shape=(20,), dtype=float32, numpy=\n",
              "array([1., 1., 0., 1., 0., 1., 1., 0., 1., 1., 0., 1., 1., 0., 0., 1., 0.,\n",
              "       1., 1., 1.], dtype=float32)>"
            ]
          },
          "metadata": {},
          "execution_count": 50
        }
      ]
    },
    {
      "cell_type": "code",
      "source": [
        "# Calculate model_1 metrics\n",
        "model_1_results = calculate_results(y_true=val_labels, \n",
        "                                    y_pred=model_1_preds)\n",
        "model_1_results"
      ],
      "metadata": {
        "colab": {
          "base_uri": "https://localhost:8080/"
        },
        "id": "YThr7cJJEMaP",
        "outputId": "eafec299-68db-4a80-be38-3b0b5d182f42"
      },
      "execution_count": 51,
      "outputs": [
        {
          "output_type": "execute_result",
          "data": {
            "text/plain": [
              "{'accuracy': 69.78999999999999,\n",
              " 'f1': 0.6978066697788927,\n",
              " 'precision': 0.697991046075714,\n",
              " 'recall': 0.6979}"
            ]
          },
          "metadata": {},
          "execution_count": 51
        }
      ]
    },
    {
      "cell_type": "code",
      "source": [
        "# Is our simple Keras model better than our baseline model?\n",
        "import numpy as np\n",
        "np.array(list(model_1_results.values())) > np.array(list(baseline_results.values()))"
      ],
      "metadata": {
        "colab": {
          "base_uri": "https://localhost:8080/"
        },
        "id": "aLLGKBQfENyT",
        "outputId": "5e2f65e1-e2e5-45c5-db00-d81884b02c44"
      },
      "execution_count": 52,
      "outputs": [
        {
          "output_type": "execute_result",
          "data": {
            "text/plain": [
              "array([False, False, False, False])"
            ]
          },
          "metadata": {},
          "execution_count": 52
        }
      ]
    },
    {
      "cell_type": "code",
      "source": [
        "# Create a helper function to compare our baseline results to new model results\n",
        "def compare_baseline_to_new_results(baseline_results, new_model_results):\n",
        "  for key, value in baseline_results.items():\n",
        "    print(f\"Baseline {key}: {value:.2f}, New {key}: {new_model_results[key]:.2f}, Difference: {new_model_results[key]-value:.2f}\")\n",
        "\n",
        "compare_baseline_to_new_results(baseline_results=baseline_results, \n",
        "                                new_model_results=model_1_results)"
      ],
      "metadata": {
        "colab": {
          "base_uri": "https://localhost:8080/"
        },
        "id": "gODDKkSaEQd0",
        "outputId": "4152c148-bfa5-429b-aadc-e75fb27fc00c"
      },
      "execution_count": 53,
      "outputs": [
        {
          "output_type": "stream",
          "name": "stdout",
          "text": [
            "Baseline accuracy: 86.35, New accuracy: 69.79, Difference: -16.56\n",
            "Baseline precision: 0.86, New precision: 0.70, Difference: -0.17\n",
            "Baseline recall: 0.86, New recall: 0.70, Difference: -0.17\n",
            "Baseline f1: 0.86, New f1: 0.70, Difference: -0.17\n"
          ]
        }
      ]
    },
    {
      "cell_type": "markdown",
      "source": [
        "Ok so a simple dense model performed poorly because Fully Connected Neural Networks don't have backward propagation adn they also dont have gated units, let's see how RNNs peform now."
      ],
      "metadata": {
        "id": "q7nn_nRTEZRE"
      }
    },
    {
      "cell_type": "markdown",
      "source": [
        "# Model 2: LSTM (Recurrent Neural Networks)"
      ],
      "metadata": {
        "id": "dGhP_mwWE7R5"
      }
    },
    {
      "cell_type": "code",
      "source": [
        "# Set random seed and create embedding layer (new embedding layer for each model)\n",
        "tf.random.set_seed(42)\n",
        "from tensorflow.keras import layers\n",
        "model_2_embedding = layers.Embedding(input_dim=max_vocab_length,\n",
        "                                     output_dim=128,\n",
        "                                     embeddings_initializer=\"uniform\",\n",
        "                                     input_length=max_length,\n",
        "                                     name=\"embedding_2\")\n",
        "\n",
        "\n",
        "# Create LSTM model\n",
        "inputs = layers.Input(shape=(1,), dtype=\"string\")\n",
        "x = text_vectorizer(inputs)\n",
        "x = model_2_embedding(x)\n",
        "print(x.shape)\n",
        "# x = layers.LSTM(64, return_sequences=True)(x) # return vector for each word in the Tweet (you can stack RNN cells as long as return_sequences=True)\n",
        "x = layers.LSTM(64)(x) # return vector for whole sequence\n",
        "print(x.shape)\n",
        "# x = layers.Dense(64, activation=\"relu\")(x) # optional dense layer on top of output of LSTM cell\n",
        "outputs = layers.Dense(1, activation=\"sigmoid\")(x)\n",
        "model_2 = tf.keras.Model(inputs, outputs, name=\"model_2_LSTM\")"
      ],
      "metadata": {
        "colab": {
          "base_uri": "https://localhost:8080/"
        },
        "id": "Q3y7svPYESVF",
        "outputId": "d960fc76-4b82-44c1-d876-6497e6597732"
      },
      "execution_count": 54,
      "outputs": [
        {
          "output_type": "stream",
          "name": "stdout",
          "text": [
            "(None, 15, 128)\n",
            "(None, 64)\n"
          ]
        }
      ]
    },
    {
      "cell_type": "code",
      "source": [
        "# Compile model\n",
        "model_2.compile(loss=\"binary_crossentropy\",\n",
        "                optimizer=tf.keras.optimizers.Adam(),\n",
        "                metrics=[\"accuracy\"])"
      ],
      "metadata": {
        "id": "Gq46LlElFAGP"
      },
      "execution_count": 55,
      "outputs": []
    },
    {
      "cell_type": "code",
      "source": [
        "model_2.summary()"
      ],
      "metadata": {
        "colab": {
          "base_uri": "https://localhost:8080/"
        },
        "id": "p9GYx65yFBbk",
        "outputId": "e97a2f54-9507-4504-cd02-8f322f3a25e4"
      },
      "execution_count": 56,
      "outputs": [
        {
          "output_type": "stream",
          "name": "stdout",
          "text": [
            "Model: \"model_2_LSTM\"\n",
            "_________________________________________________________________\n",
            " Layer (type)                Output Shape              Param #   \n",
            "=================================================================\n",
            " input_2 (InputLayer)        [(None, 1)]               0         \n",
            "                                                                 \n",
            " text_vectorization_1 (TextV  (None, 15)               0         \n",
            " ectorization)                                                   \n",
            "                                                                 \n",
            " embedding_2 (Embedding)     (None, 15, 128)           1280000   \n",
            "                                                                 \n",
            " lstm (LSTM)                 (None, 64)                49408     \n",
            "                                                                 \n",
            " dense_1 (Dense)             (None, 1)                 65        \n",
            "                                                                 \n",
            "=================================================================\n",
            "Total params: 1,329,473\n",
            "Trainable params: 1,329,473\n",
            "Non-trainable params: 0\n",
            "_________________________________________________________________\n"
          ]
        }
      ]
    },
    {
      "cell_type": "code",
      "source": [
        "# Fit model\n",
        "model_2_history = model_2.fit(train_sentences,\n",
        "                              train_labels,\n",
        "                              epochs=5,\n",
        "                              validation_data=(val_sentences, val_labels))"
      ],
      "metadata": {
        "colab": {
          "base_uri": "https://localhost:8080/"
        },
        "id": "CoekkjCAFCvY",
        "outputId": "698d4b33-87d8-41c3-ff75-5d9c63b7e6b5"
      },
      "execution_count": 57,
      "outputs": [
        {
          "output_type": "stream",
          "name": "stdout",
          "text": [
            "Epoch 1/5\n",
            "1250/1250 [==============================] - 21s 13ms/step - loss: 0.5815 - accuracy: 0.6793 - val_loss: 0.5617 - val_accuracy: 0.7026\n",
            "Epoch 2/5\n",
            "1250/1250 [==============================] - 12s 10ms/step - loss: 0.4848 - accuracy: 0.7571 - val_loss: 0.5619 - val_accuracy: 0.7029\n",
            "Epoch 3/5\n",
            "1250/1250 [==============================] - 10s 8ms/step - loss: 0.4150 - accuracy: 0.7973 - val_loss: 0.6147 - val_accuracy: 0.6945\n",
            "Epoch 4/5\n",
            "1250/1250 [==============================] - 10s 8ms/step - loss: 0.3463 - accuracy: 0.8345 - val_loss: 0.7059 - val_accuracy: 0.6912\n",
            "Epoch 5/5\n",
            "1250/1250 [==============================] - 10s 8ms/step - loss: 0.2822 - accuracy: 0.8692 - val_loss: 0.8395 - val_accuracy: 0.6918\n"
          ]
        }
      ]
    },
    {
      "cell_type": "code",
      "source": [
        "# Make predictions on the validation dataset\n",
        "model_2_pred_probs = model_2.predict(val_sentences)\n",
        "model_2_pred_probs.shape, model_2_pred_probs[:10] # view the first 10"
      ],
      "metadata": {
        "colab": {
          "base_uri": "https://localhost:8080/"
        },
        "id": "n1K1vUNrFFTu",
        "outputId": "0ebebef4-c165-4103-d1b2-4da5251e6b03"
      },
      "execution_count": 58,
      "outputs": [
        {
          "output_type": "execute_result",
          "data": {
            "text/plain": [
              "((10000, 1), array([[0.9912158 ],\n",
              "        [0.8613804 ],\n",
              "        [0.5553316 ],\n",
              "        [0.55017096],\n",
              "        [0.24021396],\n",
              "        [0.99825615],\n",
              "        [0.95182914],\n",
              "        [0.624277  ],\n",
              "        [0.07967749],\n",
              "        [0.9013357 ]], dtype=float32))"
            ]
          },
          "metadata": {},
          "execution_count": 58
        }
      ]
    },
    {
      "cell_type": "code",
      "source": [
        "# Round out predictions and reduce to 1-dimensional array\n",
        "model_2_preds = tf.squeeze(tf.round(model_2_pred_probs))\n",
        "model_2_preds[:10]"
      ],
      "metadata": {
        "colab": {
          "base_uri": "https://localhost:8080/"
        },
        "id": "vYqR4K6dFGyv",
        "outputId": "1130fa06-0219-4368-e941-aa73c79e36de"
      },
      "execution_count": 59,
      "outputs": [
        {
          "output_type": "execute_result",
          "data": {
            "text/plain": [
              "<tf.Tensor: shape=(10,), dtype=float32, numpy=array([1., 1., 1., 1., 0., 1., 1., 1., 0., 1.], dtype=float32)>"
            ]
          },
          "metadata": {},
          "execution_count": 59
        }
      ]
    },
    {
      "cell_type": "code",
      "source": [
        "# Calculate LSTM model results\n",
        "model_2_results = calculate_results(y_true=val_labels,\n",
        "                                    y_pred=model_2_preds)\n",
        "model_2_results"
      ],
      "metadata": {
        "colab": {
          "base_uri": "https://localhost:8080/"
        },
        "id": "i0p14eJoFIfK",
        "outputId": "f1f025c6-124c-4c71-efb8-77238a38f226"
      },
      "execution_count": 60,
      "outputs": [
        {
          "output_type": "execute_result",
          "data": {
            "text/plain": [
              "{'accuracy': 69.17999999999999,\n",
              " 'f1': 0.6915470038165861,\n",
              " 'precision': 0.6921605063941819,\n",
              " 'recall': 0.6918}"
            ]
          },
          "metadata": {},
          "execution_count": 60
        }
      ]
    },
    {
      "cell_type": "code",
      "source": [
        "# Compare model 2 to baseline\n",
        "compare_baseline_to_new_results(baseline_results, model_2_results)"
      ],
      "metadata": {
        "colab": {
          "base_uri": "https://localhost:8080/"
        },
        "id": "u_Q1W39fFJ-x",
        "outputId": "9df819fc-6a68-4057-c4f5-f8ff70beeac1"
      },
      "execution_count": 61,
      "outputs": [
        {
          "output_type": "stream",
          "name": "stdout",
          "text": [
            "Baseline accuracy: 86.35, New accuracy: 69.18, Difference: -17.17\n",
            "Baseline precision: 0.86, New precision: 0.69, Difference: -0.17\n",
            "Baseline recall: 0.86, New recall: 0.69, Difference: -0.17\n",
            "Baseline f1: 0.86, New f1: 0.69, Difference: -0.17\n"
          ]
        }
      ]
    },
    {
      "cell_type": "markdown",
      "source": [
        "# Model 3: Gated Recurrent Unit"
      ],
      "metadata": {
        "id": "R6sNB5iXFMK0"
      }
    },
    {
      "cell_type": "code",
      "source": [
        "# Set random seed and create embedding layer (new embedding layer for each model)\n",
        "tf.random.set_seed(42)\n",
        "from tensorflow.keras import layers\n",
        "model_3_embedding = layers.Embedding(input_dim=max_vocab_length,\n",
        "                                     output_dim=128,\n",
        "                                     embeddings_initializer=\"uniform\",\n",
        "                                     input_length=max_length,\n",
        "                                     name=\"embedding_3\")\n",
        "\n",
        "# Build an RNN using the GRU cell\n",
        "inputs = layers.Input(shape=(1,), dtype=\"string\")\n",
        "x = text_vectorizer(inputs)\n",
        "x = model_3_embedding(x)\n",
        "# x = layers.GRU(64, return_sequences=True) # stacking recurrent cells requires return_sequences=True\n",
        "x = layers.GRU(64)(x) \n",
        "# x = layers.Dense(64, activation=\"relu\")(x) # optional dense layer after GRU cell\n",
        "outputs = layers.Dense(1, activation=\"sigmoid\")(x)\n",
        "model_3 = tf.keras.Model(inputs, outputs, name=\"model_3_GRU\")"
      ],
      "metadata": {
        "id": "4_AnvNEjFLib"
      },
      "execution_count": 62,
      "outputs": []
    },
    {
      "cell_type": "code",
      "source": [
        "# Compile GRU model\n",
        "model_3.compile(loss=\"binary_crossentropy\",\n",
        "                optimizer=tf.keras.optimizers.Adam(),\n",
        "                metrics=[\"accuracy\"])"
      ],
      "metadata": {
        "id": "dRGIlvL-FR21"
      },
      "execution_count": 63,
      "outputs": []
    },
    {
      "cell_type": "code",
      "source": [
        "# Get a summary of the GRU model\n",
        "model_3.summary()"
      ],
      "metadata": {
        "colab": {
          "base_uri": "https://localhost:8080/"
        },
        "id": "BZrCpq6cFTb2",
        "outputId": "9989ee68-6c70-4dac-dd90-2491638df88f"
      },
      "execution_count": 64,
      "outputs": [
        {
          "output_type": "stream",
          "name": "stdout",
          "text": [
            "Model: \"model_3_GRU\"\n",
            "_________________________________________________________________\n",
            " Layer (type)                Output Shape              Param #   \n",
            "=================================================================\n",
            " input_3 (InputLayer)        [(None, 1)]               0         \n",
            "                                                                 \n",
            " text_vectorization_1 (TextV  (None, 15)               0         \n",
            " ectorization)                                                   \n",
            "                                                                 \n",
            " embedding_3 (Embedding)     (None, 15, 128)           1280000   \n",
            "                                                                 \n",
            " gru (GRU)                   (None, 64)                37248     \n",
            "                                                                 \n",
            " dense_2 (Dense)             (None, 1)                 65        \n",
            "                                                                 \n",
            "=================================================================\n",
            "Total params: 1,317,313\n",
            "Trainable params: 1,317,313\n",
            "Non-trainable params: 0\n",
            "_________________________________________________________________\n"
          ]
        }
      ]
    },
    {
      "cell_type": "code",
      "source": [
        "# Fit model\n",
        "model_3_history = model_3.fit(train_sentences,\n",
        "                              train_labels,\n",
        "                              epochs=5,\n",
        "                              validation_data=(val_sentences, val_labels))"
      ],
      "metadata": {
        "colab": {
          "base_uri": "https://localhost:8080/"
        },
        "id": "PPwdExZtFUjG",
        "outputId": "a0891062-cf6d-4f21-8bdd-f0d31e0e558b"
      },
      "execution_count": 65,
      "outputs": [
        {
          "output_type": "stream",
          "name": "stdout",
          "text": [
            "Epoch 1/5\n",
            "1250/1250 [==============================] - 11s 8ms/step - loss: 0.5870 - accuracy: 0.6746 - val_loss: 0.5552 - val_accuracy: 0.7063\n",
            "Epoch 2/5\n",
            "1250/1250 [==============================] - 10s 8ms/step - loss: 0.4856 - accuracy: 0.7605 - val_loss: 0.5591 - val_accuracy: 0.7014\n",
            "Epoch 3/5\n",
            "1250/1250 [==============================] - 10s 8ms/step - loss: 0.4049 - accuracy: 0.8090 - val_loss: 0.6124 - val_accuracy: 0.6967\n",
            "Epoch 4/5\n",
            "1250/1250 [==============================] - 9s 7ms/step - loss: 0.3245 - accuracy: 0.8509 - val_loss: 0.7038 - val_accuracy: 0.6908\n",
            "Epoch 5/5\n",
            "1250/1250 [==============================] - 9s 7ms/step - loss: 0.2628 - accuracy: 0.8805 - val_loss: 0.8768 - val_accuracy: 0.6834\n"
          ]
        }
      ]
    },
    {
      "cell_type": "code",
      "source": [
        "# Make predictions on the validation data\n",
        "model_3_pred_probs = model_3.predict(val_sentences)\n",
        "model_3_pred_probs.shape, model_3_pred_probs[:10]"
      ],
      "metadata": {
        "colab": {
          "base_uri": "https://localhost:8080/"
        },
        "id": "Fcw77p94FWTv",
        "outputId": "0981390a-850b-4cbd-9c22-1996d9e1c867"
      },
      "execution_count": 66,
      "outputs": [
        {
          "output_type": "execute_result",
          "data": {
            "text/plain": [
              "((10000, 1), array([[0.9865318 ],\n",
              "        [0.81680226],\n",
              "        [0.7823448 ],\n",
              "        [0.3669471 ],\n",
              "        [0.20133846],\n",
              "        [0.9994634 ],\n",
              "        [0.9788633 ],\n",
              "        [0.6616423 ],\n",
              "        [0.00755345],\n",
              "        [0.85518205]], dtype=float32))"
            ]
          },
          "metadata": {},
          "execution_count": 66
        }
      ]
    },
    {
      "cell_type": "code",
      "source": [
        "# Convert prediction probabilities to prediction classes\n",
        "model_3_preds = tf.squeeze(tf.round(model_3_pred_probs))\n",
        "model_3_preds[:10]"
      ],
      "metadata": {
        "colab": {
          "base_uri": "https://localhost:8080/"
        },
        "id": "F3JcfO7uFZQH",
        "outputId": "486cc4b3-0b8a-4ece-c8cf-4c2e287f77b3"
      },
      "execution_count": 67,
      "outputs": [
        {
          "output_type": "execute_result",
          "data": {
            "text/plain": [
              "<tf.Tensor: shape=(10,), dtype=float32, numpy=array([1., 1., 1., 0., 0., 1., 1., 1., 0., 1.], dtype=float32)>"
            ]
          },
          "metadata": {},
          "execution_count": 67
        }
      ]
    },
    {
      "cell_type": "code",
      "source": [
        "# Calcuate model_3 results\n",
        "model_3_results = calculate_results(y_true=val_labels, \n",
        "                                    y_pred=model_3_preds)\n",
        "model_3_results"
      ],
      "metadata": {
        "colab": {
          "base_uri": "https://localhost:8080/"
        },
        "id": "ZArSGcJlFatv",
        "outputId": "9e49b30c-d008-47bc-f5cf-c76113da6fee"
      },
      "execution_count": 68,
      "outputs": [
        {
          "output_type": "execute_result",
          "data": {
            "text/plain": [
              "{'accuracy': 68.34,\n",
              " 'f1': 0.6832892580575124,\n",
              " 'precision': 0.6834945567329671,\n",
              " 'recall': 0.6834}"
            ]
          },
          "metadata": {},
          "execution_count": 68
        }
      ]
    },
    {
      "cell_type": "code",
      "source": [
        "# Compare to baseline\n",
        "compare_baseline_to_new_results(baseline_results, model_3_results)"
      ],
      "metadata": {
        "colab": {
          "base_uri": "https://localhost:8080/"
        },
        "id": "l7HRTX7IFcTh",
        "outputId": "25e41d5c-b794-4d22-d31b-c463e3b4c0c6"
      },
      "execution_count": 69,
      "outputs": [
        {
          "output_type": "stream",
          "name": "stdout",
          "text": [
            "Baseline accuracy: 86.35, New accuracy: 68.34, Difference: -18.01\n",
            "Baseline precision: 0.86, New precision: 0.68, Difference: -0.18\n",
            "Baseline recall: 0.86, New recall: 0.68, Difference: -0.18\n",
            "Baseline f1: 0.86, New f1: 0.68, Difference: -0.18\n"
          ]
        }
      ]
    },
    {
      "cell_type": "markdown",
      "source": [
        "# Model 4: Bidirectonal RNN model"
      ],
      "metadata": {
        "id": "ZMUEO82JFiMr"
      }
    },
    {
      "cell_type": "code",
      "source": [
        "# Set random seed and create embedding layer (new embedding layer for each model)\n",
        "tf.random.set_seed(42)\n",
        "from tensorflow.keras import layers\n",
        "model_4_embedding = layers.Embedding(input_dim=max_vocab_length,\n",
        "                                     output_dim=128,\n",
        "                                     embeddings_initializer=\"uniform\",\n",
        "                                     input_length=max_length,\n",
        "                                     name=\"embedding_4\")\n",
        "\n",
        "# Build a Bidirectional RNN in TensorFlow\n",
        "inputs = layers.Input(shape=(1,), dtype=\"string\")\n",
        "x = text_vectorizer(inputs)\n",
        "x = model_4_embedding(x)\n",
        "# x = layers.Bidirectional(layers.LSTM(64, return_sequences=True))(x) # stacking RNN layers requires return_sequences=True\n",
        "x = layers.Bidirectional(layers.LSTM(64))(x) # bidirectional goes both ways so has double the parameters of a regular LSTM layer\n",
        "outputs = layers.Dense(1, activation=\"sigmoid\")(x)\n",
        "model_4 = tf.keras.Model(inputs, outputs, name=\"model_4_Bidirectional\")"
      ],
      "metadata": {
        "id": "Auz3VG8AFeJa"
      },
      "execution_count": 70,
      "outputs": []
    },
    {
      "cell_type": "code",
      "source": [
        "# Compile\n",
        "model_4.compile(loss=\"binary_crossentropy\",\n",
        "                optimizer=tf.keras.optimizers.Adam(),\n",
        "                metrics=[\"accuracy\"])"
      ],
      "metadata": {
        "id": "ZbGLe1V9Fmrh"
      },
      "execution_count": 71,
      "outputs": []
    },
    {
      "cell_type": "code",
      "source": [
        "# Get a summary of our bidirectional model\n",
        "model_4.summary()"
      ],
      "metadata": {
        "colab": {
          "base_uri": "https://localhost:8080/"
        },
        "id": "sUL9R6K9Fn86",
        "outputId": "231ecc70-adfb-44aa-9a9b-508baabf8f4e"
      },
      "execution_count": 72,
      "outputs": [
        {
          "output_type": "stream",
          "name": "stdout",
          "text": [
            "Model: \"model_4_Bidirectional\"\n",
            "_________________________________________________________________\n",
            " Layer (type)                Output Shape              Param #   \n",
            "=================================================================\n",
            " input_4 (InputLayer)        [(None, 1)]               0         \n",
            "                                                                 \n",
            " text_vectorization_1 (TextV  (None, 15)               0         \n",
            " ectorization)                                                   \n",
            "                                                                 \n",
            " embedding_4 (Embedding)     (None, 15, 128)           1280000   \n",
            "                                                                 \n",
            " bidirectional (Bidirectiona  (None, 128)              98816     \n",
            " l)                                                              \n",
            "                                                                 \n",
            " dense_3 (Dense)             (None, 1)                 129       \n",
            "                                                                 \n",
            "=================================================================\n",
            "Total params: 1,378,945\n",
            "Trainable params: 1,378,945\n",
            "Non-trainable params: 0\n",
            "_________________________________________________________________\n"
          ]
        }
      ]
    },
    {
      "cell_type": "code",
      "source": [
        "# Fit the model (takes longer because of the bidirectional layers)\n",
        "model_4_history = model_4.fit(train_sentences,\n",
        "                              train_labels,\n",
        "                              epochs=5,\n",
        "                              validation_data=(val_sentences, val_labels))"
      ],
      "metadata": {
        "colab": {
          "base_uri": "https://localhost:8080/"
        },
        "id": "XelDZZCdFpG6",
        "outputId": "8519f68e-5b7f-4b26-cc63-5e3972975bfd"
      },
      "execution_count": 73,
      "outputs": [
        {
          "output_type": "stream",
          "name": "stdout",
          "text": [
            "Epoch 1/5\n",
            "1250/1250 [==============================] - 16s 10ms/step - loss: 0.5786 - accuracy: 0.6818 - val_loss: 0.5569 - val_accuracy: 0.7065\n",
            "Epoch 2/5\n",
            "1250/1250 [==============================] - 12s 10ms/step - loss: 0.4836 - accuracy: 0.7569 - val_loss: 0.5561 - val_accuracy: 0.7098\n",
            "Epoch 3/5\n",
            "1250/1250 [==============================] - 12s 10ms/step - loss: 0.4057 - accuracy: 0.8024 - val_loss: 0.6116 - val_accuracy: 0.6967\n",
            "Epoch 4/5\n",
            "1250/1250 [==============================] - 12s 10ms/step - loss: 0.3222 - accuracy: 0.8500 - val_loss: 0.7221 - val_accuracy: 0.6889\n",
            "Epoch 5/5\n",
            "1250/1250 [==============================] - 12s 10ms/step - loss: 0.2449 - accuracy: 0.8887 - val_loss: 0.9351 - val_accuracy: 0.6910\n"
          ]
        }
      ]
    },
    {
      "cell_type": "code",
      "source": [
        "# Make predictions with bidirectional RNN on the validation data\n",
        "model_4_pred_probs = model_4.predict(val_sentences)\n",
        "model_4_pred_probs[:10]"
      ],
      "metadata": {
        "colab": {
          "base_uri": "https://localhost:8080/"
        },
        "id": "hlcfXn5AFq8Z",
        "outputId": "d32d1ab6-f39e-4840-ee3f-a8be176436d0"
      },
      "execution_count": 74,
      "outputs": [
        {
          "output_type": "execute_result",
          "data": {
            "text/plain": [
              "array([[0.97928864],\n",
              "       [0.16739152],\n",
              "       [0.6799975 ],\n",
              "       [0.11169963],\n",
              "       [0.2505916 ],\n",
              "       [0.99867624],\n",
              "       [0.8288305 ],\n",
              "       [0.50787807],\n",
              "       [0.595297  ],\n",
              "       [0.75206923]], dtype=float32)"
            ]
          },
          "metadata": {},
          "execution_count": 74
        }
      ]
    },
    {
      "cell_type": "code",
      "source": [
        "# Convert prediction probabilities to labels\n",
        "model_4_preds = tf.squeeze(tf.round(model_4_pred_probs))\n",
        "model_4_preds[:10]"
      ],
      "metadata": {
        "colab": {
          "base_uri": "https://localhost:8080/"
        },
        "id": "eqDKxMvGFsjz",
        "outputId": "f95ad524-a1af-4bb7-a9eb-96fb97184f01"
      },
      "execution_count": 75,
      "outputs": [
        {
          "output_type": "execute_result",
          "data": {
            "text/plain": [
              "<tf.Tensor: shape=(10,), dtype=float32, numpy=array([1., 0., 1., 0., 0., 1., 1., 1., 1., 1.], dtype=float32)>"
            ]
          },
          "metadata": {},
          "execution_count": 75
        }
      ]
    },
    {
      "cell_type": "code",
      "source": [
        "# Calculate bidirectional RNN model results\n",
        "model_4_results = calculate_results(val_labels, model_4_preds)\n",
        "model_4_results"
      ],
      "metadata": {
        "colab": {
          "base_uri": "https://localhost:8080/"
        },
        "id": "Pi5wGAAgFtxg",
        "outputId": "b55733f2-b700-4fc1-e575-7a4c39b966c7"
      },
      "execution_count": 76,
      "outputs": [
        {
          "output_type": "execute_result",
          "data": {
            "text/plain": [
              "{'accuracy': 69.1,\n",
              " 'f1': 0.690728140216509,\n",
              " 'precision': 0.6913925373291906,\n",
              " 'recall': 0.691}"
            ]
          },
          "metadata": {},
          "execution_count": 76
        }
      ]
    },
    {
      "cell_type": "code",
      "source": [
        "# Check to see how the bidirectional model performs against the baseline\n",
        "compare_baseline_to_new_results(baseline_results, model_4_results)"
      ],
      "metadata": {
        "colab": {
          "base_uri": "https://localhost:8080/"
        },
        "id": "-CEscd_IFu2D",
        "outputId": "2a58417f-5662-4731-d241-48d464bcffd3"
      },
      "execution_count": 77,
      "outputs": [
        {
          "output_type": "stream",
          "name": "stdout",
          "text": [
            "Baseline accuracy: 86.35, New accuracy: 69.10, Difference: -17.25\n",
            "Baseline precision: 0.86, New precision: 0.69, Difference: -0.17\n",
            "Baseline recall: 0.86, New recall: 0.69, Difference: -0.17\n",
            "Baseline f1: 0.86, New f1: 0.69, Difference: -0.17\n"
          ]
        }
      ]
    },
    {
      "cell_type": "markdown",
      "source": [
        "# Model 5: Conv1D"
      ],
      "metadata": {
        "id": "415pjfw9FzrY"
      }
    },
    {
      "cell_type": "code",
      "source": [
        "# Set random seed and create embedding layer (new embedding layer for each model)\n",
        "tf.random.set_seed(42)\n",
        "from tensorflow.keras import layers\n",
        "model_5_embedding = layers.Embedding(input_dim=max_vocab_length,\n",
        "                                     output_dim=128,\n",
        "                                     embeddings_initializer=\"uniform\",\n",
        "                                     input_length=max_length,\n",
        "                                     name=\"embedding_5\")\n",
        "\n",
        "# Create 1-dimensional convolutional layer to model sequences\n",
        "from tensorflow.keras import layers\n",
        "inputs = layers.Input(shape=(1,), dtype=\"string\")\n",
        "x = text_vectorizer(inputs)\n",
        "x = model_5_embedding(x)\n",
        "x = layers.Conv1D(filters=32, kernel_size=5, activation=\"relu\")(x)\n",
        "x = layers.GlobalMaxPool1D()(x)\n",
        "# x = layers.Dense(64, activation=\"relu\")(x) # optional dense layer\n",
        "outputs = layers.Dense(1, activation=\"sigmoid\")(x)\n",
        "model_5 = tf.keras.Model(inputs, outputs, name=\"model_5_Conv1D\")\n",
        "\n",
        "# Compile Conv1D model\n",
        "model_5.compile(loss=\"binary_crossentropy\",\n",
        "                optimizer=tf.keras.optimizers.Adam(),\n",
        "                metrics=[\"accuracy\"])\n",
        "\n",
        "# Get a summary of our 1D convolution model\n",
        "model_5.summary()"
      ],
      "metadata": {
        "colab": {
          "base_uri": "https://localhost:8080/"
        },
        "id": "liFNKVDOFxue",
        "outputId": "993bf1b3-3bf0-41d2-f4b5-80884af672cf"
      },
      "execution_count": 78,
      "outputs": [
        {
          "output_type": "stream",
          "name": "stdout",
          "text": [
            "Model: \"model_5_Conv1D\"\n",
            "_________________________________________________________________\n",
            " Layer (type)                Output Shape              Param #   \n",
            "=================================================================\n",
            " input_5 (InputLayer)        [(None, 1)]               0         \n",
            "                                                                 \n",
            " text_vectorization_1 (TextV  (None, 15)               0         \n",
            " ectorization)                                                   \n",
            "                                                                 \n",
            " embedding_5 (Embedding)     (None, 15, 128)           1280000   \n",
            "                                                                 \n",
            " conv1d (Conv1D)             (None, 11, 32)            20512     \n",
            "                                                                 \n",
            " global_max_pooling1d (Globa  (None, 32)               0         \n",
            " lMaxPooling1D)                                                  \n",
            "                                                                 \n",
            " dense_4 (Dense)             (None, 1)                 33        \n",
            "                                                                 \n",
            "=================================================================\n",
            "Total params: 1,300,545\n",
            "Trainable params: 1,300,545\n",
            "Non-trainable params: 0\n",
            "_________________________________________________________________\n"
          ]
        }
      ]
    },
    {
      "cell_type": "code",
      "source": [
        "# Fit the model\n",
        "model_5_history = model_5.fit(train_sentences,\n",
        "                              train_labels,\n",
        "                              epochs=5,\n",
        "                              validation_data=(val_sentences, val_labels))"
      ],
      "metadata": {
        "colab": {
          "base_uri": "https://localhost:8080/"
        },
        "id": "2Q7OitAkF-nW",
        "outputId": "6c6c9cdb-bdca-4e53-df28-2de55cf62d55"
      },
      "execution_count": 79,
      "outputs": [
        {
          "output_type": "stream",
          "name": "stdout",
          "text": [
            "Epoch 1/5\n",
            "1250/1250 [==============================] - 16s 7ms/step - loss: 0.5902 - accuracy: 0.6696 - val_loss: 0.5569 - val_accuracy: 0.7020\n",
            "Epoch 2/5\n",
            "1250/1250 [==============================] - 8s 7ms/step - loss: 0.4637 - accuracy: 0.7787 - val_loss: 0.5684 - val_accuracy: 0.7039\n",
            "Epoch 3/5\n",
            "1250/1250 [==============================] - 8s 7ms/step - loss: 0.3309 - accuracy: 0.8605 - val_loss: 0.6297 - val_accuracy: 0.6965\n",
            "Epoch 4/5\n",
            "1250/1250 [==============================] - 8s 7ms/step - loss: 0.1947 - accuracy: 0.9293 - val_loss: 0.7422 - val_accuracy: 0.6903\n",
            "Epoch 5/5\n",
            "1250/1250 [==============================] - 8s 7ms/step - loss: 0.0985 - accuracy: 0.9712 - val_loss: 0.8971 - val_accuracy: 0.6853\n"
          ]
        }
      ]
    },
    {
      "cell_type": "code",
      "source": [
        "# Make predictions with model_5\n",
        "model_5_pred_probs = model_5.predict(val_sentences)\n",
        "model_5_pred_probs[:10]"
      ],
      "metadata": {
        "colab": {
          "base_uri": "https://localhost:8080/"
        },
        "id": "eXDOCopUGAn1",
        "outputId": "54e40790-47c7-469b-cd46-f86e787dbbe7"
      },
      "execution_count": 80,
      "outputs": [
        {
          "output_type": "execute_result",
          "data": {
            "text/plain": [
              "array([[0.99966383],\n",
              "       [0.6644798 ],\n",
              "       [0.4262022 ],\n",
              "       [0.223553  ],\n",
              "       [0.3378353 ],\n",
              "       [0.8616272 ],\n",
              "       [0.99014413],\n",
              "       [0.6069096 ],\n",
              "       [0.00846962],\n",
              "       [0.02308312]], dtype=float32)"
            ]
          },
          "metadata": {},
          "execution_count": 80
        }
      ]
    },
    {
      "cell_type": "code",
      "source": [
        "# Convert model_5 prediction probabilities to labels\n",
        "model_5_preds = tf.squeeze(tf.round(model_5_pred_probs))\n",
        "model_5_preds[:10]"
      ],
      "metadata": {
        "colab": {
          "base_uri": "https://localhost:8080/"
        },
        "id": "2Jze3oyJGBwg",
        "outputId": "5aecbfc5-5f03-4ddc-f8ca-8f04113b5917"
      },
      "execution_count": 81,
      "outputs": [
        {
          "output_type": "execute_result",
          "data": {
            "text/plain": [
              "<tf.Tensor: shape=(10,), dtype=float32, numpy=array([1., 1., 0., 0., 0., 1., 1., 1., 0., 0.], dtype=float32)>"
            ]
          },
          "metadata": {},
          "execution_count": 81
        }
      ]
    },
    {
      "cell_type": "code",
      "source": [
        "# Calculate model_5 evaluation metrics \n",
        "model_5_results = calculate_results(y_true=val_labels, \n",
        "                                    y_pred=model_5_preds)\n",
        "model_5_results"
      ],
      "metadata": {
        "colab": {
          "base_uri": "https://localhost:8080/"
        },
        "id": "0zPPFy5iGD3U",
        "outputId": "1c1886c9-bdf7-4380-9af4-b8441fb06957"
      },
      "execution_count": 82,
      "outputs": [
        {
          "output_type": "execute_result",
          "data": {
            "text/plain": [
              "{'accuracy': 68.53,\n",
              " 'f1': 0.6851813449516458,\n",
              " 'precision': 0.6854094962917048,\n",
              " 'recall': 0.6853}"
            ]
          },
          "metadata": {},
          "execution_count": 82
        }
      ]
    },
    {
      "cell_type": "markdown",
      "source": [
        "# Model 6: TensorFlow Hub Pretrained Sentence Encoder"
      ],
      "metadata": {
        "id": "tnx42dZtGef7"
      }
    },
    {
      "cell_type": "code",
      "source": [
        "# Example of pretrained embedding with universal sentence encoder - https://tfhub.dev/google/universal-sentence-encoder/4\n",
        "import tensorflow_hub as hub\n",
        "embed = hub.load(\"https://tfhub.dev/google/universal-sentence-encoder/4\") # load Universal Sentence Encoder\n",
        "embed_samples = embed([sample_sentence,\n",
        "                      \"When you call the universal sentence encoder on a sentence, it turns it into numbers.\"])\n",
        "\n",
        "print(embed_samples[0][:50])"
      ],
      "metadata": {
        "colab": {
          "base_uri": "https://localhost:8080/"
        },
        "id": "4CbhID_MGFFx",
        "outputId": "241468f8-26fe-44fb-f616-a601dfcf2d63"
      },
      "execution_count": 83,
      "outputs": [
        {
          "output_type": "stream",
          "name": "stdout",
          "text": [
            "tf.Tensor(\n",
            "[-0.01157028  0.0248591   0.02878048 -0.012715    0.03971538  0.0882776\n",
            "  0.02680984  0.05589836 -0.0106873  -0.00597291  0.00639323 -0.01819518\n",
            "  0.00030813  0.09105888  0.05874644 -0.03180628  0.01512474 -0.05162929\n",
            "  0.00991367 -0.06865347 -0.04209306  0.02678981  0.03011006  0.00321069\n",
            " -0.00337973 -0.04787357  0.0226672  -0.00985925 -0.04063613 -0.01292092\n",
            " -0.04666384  0.05630299 -0.03949255  0.00517686  0.02495829 -0.0701444\n",
            "  0.02871508  0.04947684 -0.00633979 -0.08960192  0.02807118 -0.00808364\n",
            " -0.01360602  0.0599865  -0.10361787 -0.05195374  0.00232954 -0.02332531\n",
            " -0.03758105  0.03327728], shape=(50,), dtype=float32)\n"
          ]
        }
      ]
    },
    {
      "cell_type": "code",
      "source": [
        "# Each sentence has been encoded into a 512 dimension vector\n",
        "embed_samples[0].shape"
      ],
      "metadata": {
        "colab": {
          "base_uri": "https://localhost:8080/"
        },
        "id": "10yD3nD6GmlK",
        "outputId": "f2cbb2c3-57fd-4a0a-b3d6-cfc78b48618b"
      },
      "execution_count": 84,
      "outputs": [
        {
          "output_type": "execute_result",
          "data": {
            "text/plain": [
              "TensorShape([512])"
            ]
          },
          "metadata": {},
          "execution_count": 84
        }
      ]
    },
    {
      "cell_type": "code",
      "source": [
        "# We can use this encoding layer in place of our text_vectorizer and embedding layer\n",
        "sentence_encoder_layer = hub.KerasLayer(\"https://tfhub.dev/google/universal-sentence-encoder/4\",\n",
        "                                        input_shape=[], # shape of inputs coming to our model \n",
        "                                        dtype=tf.string, # data type of inputs coming to the USE layer\n",
        "                                        trainable=False, # keep the pretrained weights (we'll create a feature extractor)\n",
        "                                        name=\"USE\")"
      ],
      "metadata": {
        "id": "wxEKL7f1GpNz"
      },
      "execution_count": 85,
      "outputs": []
    },
    {
      "cell_type": "code",
      "source": [
        "# Create model using the Sequential API\n",
        "model_6 = tf.keras.Sequential([\n",
        "  sentence_encoder_layer, # take in sentences and then encode them into an embedding\n",
        "  layers.Dense(64, activation=\"relu\"),\n",
        "  layers.Dense(1, activation=\"sigmoid\")\n",
        "], name=\"model_6_USE\")\n",
        "\n",
        "# Compile model\n",
        "model_6.compile(loss=\"binary_crossentropy\",\n",
        "                optimizer=tf.keras.optimizers.Adam(),\n",
        "                metrics=[\"accuracy\"])\n",
        "\n",
        "model_6.summary()"
      ],
      "metadata": {
        "colab": {
          "base_uri": "https://localhost:8080/"
        },
        "id": "5nsFIClXGqVd",
        "outputId": "b91981ef-019c-4282-e8be-e7b10daafe41"
      },
      "execution_count": 86,
      "outputs": [
        {
          "output_type": "stream",
          "name": "stdout",
          "text": [
            "Model: \"model_6_USE\"\n",
            "_________________________________________________________________\n",
            " Layer (type)                Output Shape              Param #   \n",
            "=================================================================\n",
            " USE (KerasLayer)            (None, 512)               256797824 \n",
            "                                                                 \n",
            " dense_5 (Dense)             (None, 64)                32832     \n",
            "                                                                 \n",
            " dense_6 (Dense)             (None, 1)                 65        \n",
            "                                                                 \n",
            "=================================================================\n",
            "Total params: 256,830,721\n",
            "Trainable params: 32,897\n",
            "Non-trainable params: 256,797,824\n",
            "_________________________________________________________________\n"
          ]
        }
      ]
    },
    {
      "cell_type": "code",
      "source": [
        "# Train a classifier on top of pretrained embeddings\n",
        "model_6_history = model_6.fit(train_sentences,\n",
        "                              train_labels,\n",
        "                              epochs=5,\n",
        "                              validation_data=(val_sentences, val_labels))"
      ],
      "metadata": {
        "colab": {
          "base_uri": "https://localhost:8080/"
        },
        "id": "rZBUX7uyGtDj",
        "outputId": "98ccfa9d-24ee-4efb-8297-48794711594b"
      },
      "execution_count": 87,
      "outputs": [
        {
          "output_type": "stream",
          "name": "stdout",
          "text": [
            "Epoch 1/5\n",
            "1250/1250 [==============================] - 61s 47ms/step - loss: 0.3553 - accuracy: 0.8461 - val_loss: 0.3214 - val_accuracy: 0.8610\n",
            "Epoch 2/5\n",
            "1250/1250 [==============================] - 68s 54ms/step - loss: 0.3230 - accuracy: 0.8577 - val_loss: 0.3308 - val_accuracy: 0.8542\n",
            "Epoch 3/5\n",
            "1250/1250 [==============================] - 61s 49ms/step - loss: 0.3178 - accuracy: 0.8619 - val_loss: 0.3179 - val_accuracy: 0.8630\n",
            "Epoch 4/5\n",
            "1250/1250 [==============================] - 70s 56ms/step - loss: 0.3130 - accuracy: 0.8637 - val_loss: 0.3125 - val_accuracy: 0.8656\n",
            "Epoch 5/5\n",
            "1250/1250 [==============================] - 58s 47ms/step - loss: 0.3076 - accuracy: 0.8659 - val_loss: 0.3137 - val_accuracy: 0.8654\n"
          ]
        }
      ]
    },
    {
      "cell_type": "code",
      "source": [
        "# Make predictions with USE TF Hub model\n",
        "model_6_pred_probs = model_6.predict(val_sentences)\n",
        "model_6_pred_probs[:10]"
      ],
      "metadata": {
        "colab": {
          "base_uri": "https://localhost:8080/"
        },
        "id": "R9zboVkzGuwh",
        "outputId": "6a7dbcf6-0e9c-4162-9aa7-73da8d9d46d2"
      },
      "execution_count": 88,
      "outputs": [
        {
          "output_type": "execute_result",
          "data": {
            "text/plain": [
              "array([[0.6785186 ],\n",
              "       [0.9737384 ],\n",
              "       [0.0274232 ],\n",
              "       [0.901999  ],\n",
              "       [0.16228668],\n",
              "       [0.98643976],\n",
              "       [0.98138463],\n",
              "       [0.30772552],\n",
              "       [0.32684666],\n",
              "       [0.17148851]], dtype=float32)"
            ]
          },
          "metadata": {},
          "execution_count": 88
        }
      ]
    },
    {
      "cell_type": "code",
      "source": [
        "# Convert prediction probabilities to labels\n",
        "model_6_preds = tf.squeeze(tf.round(model_6_pred_probs))\n",
        "model_6_preds[:10]"
      ],
      "metadata": {
        "colab": {
          "base_uri": "https://localhost:8080/"
        },
        "id": "dv_hyLprGygZ",
        "outputId": "2d8fa2dc-1e68-4829-ad7a-19a367f8dc92"
      },
      "execution_count": 89,
      "outputs": [
        {
          "output_type": "execute_result",
          "data": {
            "text/plain": [
              "<tf.Tensor: shape=(10,), dtype=float32, numpy=array([1., 1., 0., 1., 0., 1., 1., 0., 0., 0.], dtype=float32)>"
            ]
          },
          "metadata": {},
          "execution_count": 89
        }
      ]
    },
    {
      "cell_type": "code",
      "source": [
        "# Calculate model 6 performance metrics\n",
        "model_6_results = calculate_results(val_labels, model_6_preds)\n",
        "model_6_results"
      ],
      "metadata": {
        "colab": {
          "base_uri": "https://localhost:8080/"
        },
        "id": "DPJGrw6SG0dn",
        "outputId": "725cd8b7-ca71-411b-93db-901397790854"
      },
      "execution_count": 90,
      "outputs": [
        {
          "output_type": "execute_result",
          "data": {
            "text/plain": [
              "{'accuracy': 86.53999999999999,\n",
              " 'f1': 0.8653680144340786,\n",
              " 'precision': 0.866015203029912,\n",
              " 'recall': 0.8654}"
            ]
          },
          "metadata": {},
          "execution_count": 90
        }
      ]
    },
    {
      "cell_type": "code",
      "source": [
        "# Compare TF Hub model to baseline\n",
        "compare_baseline_to_new_results(baseline_results, model_6_results)"
      ],
      "metadata": {
        "colab": {
          "base_uri": "https://localhost:8080/"
        },
        "id": "zRA-hLcUG2JB",
        "outputId": "c15f32a7-2762-4a96-a13b-de0c011b2213"
      },
      "execution_count": 91,
      "outputs": [
        {
          "output_type": "stream",
          "name": "stdout",
          "text": [
            "Baseline accuracy: 86.35, New accuracy: 86.54, Difference: 0.19\n",
            "Baseline precision: 0.86, New precision: 0.87, Difference: 0.00\n",
            "Baseline recall: 0.86, New recall: 0.87, Difference: 0.00\n",
            "Baseline f1: 0.86, New f1: 0.87, Difference: 0.00\n"
          ]
        }
      ]
    },
    {
      "cell_type": "markdown",
      "source": [
        "# Comparing the performance of each of our models"
      ],
      "metadata": {
        "id": "00Q_DRDmG8fK"
      }
    },
    {
      "cell_type": "code",
      "source": [
        "# Combine model results into a DataFrame\n",
        "all_model_results = pd.DataFrame({\"baseline\": baseline_results,\n",
        "                                  \"simple_dense\": model_1_results,\n",
        "                                  \"lstm\": model_2_results,\n",
        "                                  \"gru\": model_3_results,\n",
        "                                  \"bidirectional\": model_4_results,\n",
        "                                  \"conv1d\": model_5_results,\n",
        "                                  \"tf_hub_sentence_encoder\": model_6_results})\n",
        "all_model_results = all_model_results.transpose()\n",
        "all_model_results"
      ],
      "metadata": {
        "colab": {
          "base_uri": "https://localhost:8080/",
          "height": 0
        },
        "id": "QDsa2hLmG4qB",
        "outputId": "15aa4fc4-c61d-4d61-d1d5-a62c637f4410"
      },
      "execution_count": 92,
      "outputs": [
        {
          "output_type": "execute_result",
          "data": {
            "text/plain": [
              "                         accuracy  precision  recall        f1\n",
              "baseline                    86.35   0.864486  0.8635  0.863440\n",
              "simple_dense                69.79   0.697991  0.6979  0.697807\n",
              "lstm                        69.18   0.692161  0.6918  0.691547\n",
              "gru                         68.34   0.683495  0.6834  0.683289\n",
              "bidirectional               69.10   0.691393  0.6910  0.690728\n",
              "conv1d                      68.53   0.685409  0.6853  0.685181\n",
              "tf_hub_sentence_encoder     86.54   0.866015  0.8654  0.865368"
            ],
            "text/html": [
              "\n",
              "  <div id=\"df-49b9813e-dab2-4505-b532-10519f9f1a77\">\n",
              "    <div class=\"colab-df-container\">\n",
              "      <div>\n",
              "<style scoped>\n",
              "    .dataframe tbody tr th:only-of-type {\n",
              "        vertical-align: middle;\n",
              "    }\n",
              "\n",
              "    .dataframe tbody tr th {\n",
              "        vertical-align: top;\n",
              "    }\n",
              "\n",
              "    .dataframe thead th {\n",
              "        text-align: right;\n",
              "    }\n",
              "</style>\n",
              "<table border=\"1\" class=\"dataframe\">\n",
              "  <thead>\n",
              "    <tr style=\"text-align: right;\">\n",
              "      <th></th>\n",
              "      <th>accuracy</th>\n",
              "      <th>precision</th>\n",
              "      <th>recall</th>\n",
              "      <th>f1</th>\n",
              "    </tr>\n",
              "  </thead>\n",
              "  <tbody>\n",
              "    <tr>\n",
              "      <th>baseline</th>\n",
              "      <td>86.35</td>\n",
              "      <td>0.864486</td>\n",
              "      <td>0.8635</td>\n",
              "      <td>0.863440</td>\n",
              "    </tr>\n",
              "    <tr>\n",
              "      <th>simple_dense</th>\n",
              "      <td>69.79</td>\n",
              "      <td>0.697991</td>\n",
              "      <td>0.6979</td>\n",
              "      <td>0.697807</td>\n",
              "    </tr>\n",
              "    <tr>\n",
              "      <th>lstm</th>\n",
              "      <td>69.18</td>\n",
              "      <td>0.692161</td>\n",
              "      <td>0.6918</td>\n",
              "      <td>0.691547</td>\n",
              "    </tr>\n",
              "    <tr>\n",
              "      <th>gru</th>\n",
              "      <td>68.34</td>\n",
              "      <td>0.683495</td>\n",
              "      <td>0.6834</td>\n",
              "      <td>0.683289</td>\n",
              "    </tr>\n",
              "    <tr>\n",
              "      <th>bidirectional</th>\n",
              "      <td>69.10</td>\n",
              "      <td>0.691393</td>\n",
              "      <td>0.6910</td>\n",
              "      <td>0.690728</td>\n",
              "    </tr>\n",
              "    <tr>\n",
              "      <th>conv1d</th>\n",
              "      <td>68.53</td>\n",
              "      <td>0.685409</td>\n",
              "      <td>0.6853</td>\n",
              "      <td>0.685181</td>\n",
              "    </tr>\n",
              "    <tr>\n",
              "      <th>tf_hub_sentence_encoder</th>\n",
              "      <td>86.54</td>\n",
              "      <td>0.866015</td>\n",
              "      <td>0.8654</td>\n",
              "      <td>0.865368</td>\n",
              "    </tr>\n",
              "  </tbody>\n",
              "</table>\n",
              "</div>\n",
              "      <button class=\"colab-df-convert\" onclick=\"convertToInteractive('df-49b9813e-dab2-4505-b532-10519f9f1a77')\"\n",
              "              title=\"Convert this dataframe to an interactive table.\"\n",
              "              style=\"display:none;\">\n",
              "        \n",
              "  <svg xmlns=\"http://www.w3.org/2000/svg\" height=\"24px\"viewBox=\"0 0 24 24\"\n",
              "       width=\"24px\">\n",
              "    <path d=\"M0 0h24v24H0V0z\" fill=\"none\"/>\n",
              "    <path d=\"M18.56 5.44l.94 2.06.94-2.06 2.06-.94-2.06-.94-.94-2.06-.94 2.06-2.06.94zm-11 1L8.5 8.5l.94-2.06 2.06-.94-2.06-.94L8.5 2.5l-.94 2.06-2.06.94zm10 10l.94 2.06.94-2.06 2.06-.94-2.06-.94-.94-2.06-.94 2.06-2.06.94z\"/><path d=\"M17.41 7.96l-1.37-1.37c-.4-.4-.92-.59-1.43-.59-.52 0-1.04.2-1.43.59L10.3 9.45l-7.72 7.72c-.78.78-.78 2.05 0 2.83L4 21.41c.39.39.9.59 1.41.59.51 0 1.02-.2 1.41-.59l7.78-7.78 2.81-2.81c.8-.78.8-2.07 0-2.86zM5.41 20L4 18.59l7.72-7.72 1.47 1.35L5.41 20z\"/>\n",
              "  </svg>\n",
              "      </button>\n",
              "      \n",
              "  <style>\n",
              "    .colab-df-container {\n",
              "      display:flex;\n",
              "      flex-wrap:wrap;\n",
              "      gap: 12px;\n",
              "    }\n",
              "\n",
              "    .colab-df-convert {\n",
              "      background-color: #E8F0FE;\n",
              "      border: none;\n",
              "      border-radius: 50%;\n",
              "      cursor: pointer;\n",
              "      display: none;\n",
              "      fill: #1967D2;\n",
              "      height: 32px;\n",
              "      padding: 0 0 0 0;\n",
              "      width: 32px;\n",
              "    }\n",
              "\n",
              "    .colab-df-convert:hover {\n",
              "      background-color: #E2EBFA;\n",
              "      box-shadow: 0px 1px 2px rgba(60, 64, 67, 0.3), 0px 1px 3px 1px rgba(60, 64, 67, 0.15);\n",
              "      fill: #174EA6;\n",
              "    }\n",
              "\n",
              "    [theme=dark] .colab-df-convert {\n",
              "      background-color: #3B4455;\n",
              "      fill: #D2E3FC;\n",
              "    }\n",
              "\n",
              "    [theme=dark] .colab-df-convert:hover {\n",
              "      background-color: #434B5C;\n",
              "      box-shadow: 0px 1px 3px 1px rgba(0, 0, 0, 0.15);\n",
              "      filter: drop-shadow(0px 1px 2px rgba(0, 0, 0, 0.3));\n",
              "      fill: #FFFFFF;\n",
              "    }\n",
              "  </style>\n",
              "\n",
              "      <script>\n",
              "        const buttonEl =\n",
              "          document.querySelector('#df-49b9813e-dab2-4505-b532-10519f9f1a77 button.colab-df-convert');\n",
              "        buttonEl.style.display =\n",
              "          google.colab.kernel.accessAllowed ? 'block' : 'none';\n",
              "\n",
              "        async function convertToInteractive(key) {\n",
              "          const element = document.querySelector('#df-49b9813e-dab2-4505-b532-10519f9f1a77');\n",
              "          const dataTable =\n",
              "            await google.colab.kernel.invokeFunction('convertToInteractive',\n",
              "                                                     [key], {});\n",
              "          if (!dataTable) return;\n",
              "\n",
              "          const docLinkHtml = 'Like what you see? Visit the ' +\n",
              "            '<a target=\"_blank\" href=https://colab.research.google.com/notebooks/data_table.ipynb>data table notebook</a>'\n",
              "            + ' to learn more about interactive tables.';\n",
              "          element.innerHTML = '';\n",
              "          dataTable['output_type'] = 'display_data';\n",
              "          await google.colab.output.renderOutput(dataTable, element);\n",
              "          const docLink = document.createElement('div');\n",
              "          docLink.innerHTML = docLinkHtml;\n",
              "          element.appendChild(docLink);\n",
              "        }\n",
              "      </script>\n",
              "    </div>\n",
              "  </div>\n",
              "  "
            ]
          },
          "metadata": {},
          "execution_count": 92
        }
      ]
    },
    {
      "cell_type": "code",
      "source": [
        "\n",
        "# Reduce the accuracy to same scale as other metrics\n",
        "all_model_results[\"accuracy\"] = all_model_results[\"accuracy\"]/100"
      ],
      "metadata": {
        "id": "BxmjgIPZHBsq"
      },
      "execution_count": 93,
      "outputs": []
    },
    {
      "cell_type": "code",
      "source": [
        "# Plot and compare all of the model results\n",
        "all_model_results.plot(kind=\"bar\", figsize=(10, 7)).legend(bbox_to_anchor=(1.0, 1.0));"
      ],
      "metadata": {
        "colab": {
          "base_uri": "https://localhost:8080/",
          "height": 0
        },
        "id": "q4AAzkKwHDa4",
        "outputId": "79d5f0c9-a18d-4eec-962c-9736ca457a93"
      },
      "execution_count": 94,
      "outputs": [
        {
          "output_type": "display_data",
          "data": {
            "text/plain": [
              "<Figure size 720x504 with 1 Axes>"
            ],
            "image/png": "[encoded data removed]"
          },
          "metadata": {
            "needs_background": "light"
          }
        }
      ]
    },
    {
      "cell_type": "code",
      "source": [
        "# Sort model results by f1-score\n",
        "all_model_results.sort_values(\"f1\", ascending=False)[\"f1\"].plot(kind=\"bar\", figsize=(10, 7));"
      ],
      "metadata": {
        "colab": {
          "base_uri": "https://localhost:8080/",
          "height": 0
        },
        "id": "8AuuYJmuHE6H",
        "outputId": "44f67916-c5bf-48b4-c973-4f8b801a1340"
      },
      "execution_count": 95,
      "outputs": [
        {
          "output_type": "display_data",
          "data": {
            "text/plain": [
              "<Figure size 720x504 with 1 Axes>"
            ],
            "image/png": "[encoded data removed]"
          },
          "metadata": {
            "needs_background": "light"
          }
        }
      ]
    },
    {
      "cell_type": "markdown",
      "source": [
        "# Predictions on custom data"
      ],
      "metadata": {
        "id": "g7eS7AmnIOQ-"
      }
    },
    {
      "cell_type": "code",
      "source": [
        "review_1 = \"I get why some people hate this. It's because of the political message and how some people think that you need get empathy for Arthur's madness. But come on that is not the point and it will never be. Enjoy this masterpiece because Joaquin Phoenix and Todd Phillips overdid themselves with this movie. The acting,music and cinematography are just amazing ! Please enjoy the movie without overthinking it.\"\n",
        "review_2 = \"Let me start off by saying if Joaquin Phoneix doesn't get his Oscar for this movie. Then the Oscars should be cancelled. Phoneix is amazing as you might've heard from every review ever! But Todd Phillips. Is at his best here. The story lines he takes and visuals are just breathtaking. The score!! Omg the Score! Every time that score came on, I felt very uncomfortable, like something horrible was about to happen. It was GREAT. The Inspirations from Taxi Driver and King of Comedy are there, and add so much for the movie. And I got to be honest. There are scenes that are very violent. And its disturbing. But I honestly expected it to be WAYYYY more violent from all the controversy going on. Overall this movie was GREAT. Come Oscar season, it needs to be nominated for Best Picture, ScreenPlay, Cinematography, Actor, Score and Director.\"\n",
        "review_3 = \"Every once in a while a movie comes, that truly makes an impact. Joaquin's performance and scenography in all it's brilliance. Grotesque, haunting and cringy. Hard to watch at times,... but so mesmerizing, you won't blink an eye watching it. Tragic, but with seriously funny moments. Emotional rollercoaster - sometimes, with multiple emotions popping-up at the same time.this is far from a typical action-riddled predictable super-hero movie - it's a proper psychological thriller/drama, with the single best character development I have ever seen.\"\n",
        "review_4 = \"I was underwhelmed - to say it friendly - but not surprised by the fact. Because Hollywood has lost its magic looong time ago. IMHO no. bo. dy gives a damn about Darth Vader's Childhood or Joker's relationship with his mother. All we want for centuries is a proper boogeyman. If you overpaid LaLaLand-Schmocks won't jump from the stupid Prequel-explains-it-all-train - please give us at least solid filmmaking. Joker is a mess. No story, no finesse, no build-up, no surprises, no ideas. But a load of layman-psychology that should make even 12y olds roll their eyes; a cacophony of more or less unrelated scenes; cheesy taxi-driver-moments without any impact; massive overacting by Phoenix and no subtle sinister Joker moments except for the two second Elevator-Scene we all know (and love) from the trailer. rating 9.0? A joke. Heath Ledger, I miss you.\"\n",
        "review_5 = \"This movie represents everything wrong with Hollywood. Take an existing thing, make vast changes to it to the point it is no longer the thing it was, yet still call it the same thing to profit off its popularity.This story is of a loser at the end of his ropes. His life was sad, pathetic and he is powerless and thus...of course, lashes out at the world for it. This is a millennial's story. A person that blames everyone else, is a victim. There is no strength in this character. He isnt scary. He isnt a thing to be feared. This so called Joker, because he is without strength, knowledge could never be what the Joker actually is. Hard to kill, vastly intelligent and a criminal master-mind.\"\n",
        "review_6 = \"Basically a bad remake of taxi driver with bits of King of Comedy thrown in to replace the underage prostitute parts ... oh and lets throw a little batman stuff in there too to link it to those popular superhero movies . problem is unlike Taxi Driver the main character is very unappealing , unlikable , and hard to sympathise with ... not just getting retribution on those who have wronged him Bronson style - he's more American Psycho killing basically innocent people for fun . Glamorising violence against inocent people by the mentally disturbed not a great message to be putting out there nowadays . also wayyyy too much time wasted on Phoenix dancing and mugging to the camera - they could have cut out 45 minutes and still made the same movie just less long and boring .\""
      ],
      "metadata": {
        "id": "-_gVzi3wHHCI"
      },
      "execution_count": 98,
      "outputs": []
    },
    {
      "cell_type": "code",
      "source": [
        "def pred_and_prob_sentence(sentence):\n",
        "    pred_prob = tf.squeeze(model_6.predict([sentence])) # has to be list\n",
        "    pred = tf.round(pred_prob)\n",
        "    print(f\"Pred: {int(pred)}\", \"(positive review)\" if pred > 0 else \"(negative review)\", f\", Prob: {pred_prob}\")"
      ],
      "metadata": {
        "id": "uYK9AZTqfpkO"
      },
      "execution_count": 99,
      "outputs": []
    },
    {
      "cell_type": "code",
      "source": [
        "pred_and_prob_sentence(review_1)"
      ],
      "metadata": {
        "colab": {
          "base_uri": "https://localhost:8080/"
        },
        "id": "QQ1gJCKAfqP-",
        "outputId": "921c50d7-46d9-474a-b5b6-86f37e354791"
      },
      "execution_count": 100,
      "outputs": [
        {
          "output_type": "stream",
          "name": "stdout",
          "text": [
            "Pred: 0 (negative review) , Prob: 0.3780796527862549\n"
          ]
        }
      ]
    },
    {
      "cell_type": "code",
      "source": [
        "pred_and_prob_sentence(review_2)"
      ],
      "metadata": {
        "colab": {
          "base_uri": "https://localhost:8080/"
        },
        "id": "GbyJFlQPh-pM",
        "outputId": "a464c3e2-2251-4069-b264-69e36bc95a03"
      },
      "execution_count": 101,
      "outputs": [
        {
          "output_type": "stream",
          "name": "stdout",
          "text": [
            "Pred: 1 (positive review) , Prob: 0.7319397926330566\n"
          ]
        }
      ]
    },
    {
      "cell_type": "code",
      "source": [
        "pred_and_prob_sentence(review_3)"
      ],
      "metadata": {
        "colab": {
          "base_uri": "https://localhost:8080/"
        },
        "id": "fwYEjkBNiEp4",
        "outputId": "b1a62778-0bb7-43f9-a67d-6009e0fe1134"
      },
      "execution_count": 102,
      "outputs": [
        {
          "output_type": "stream",
          "name": "stdout",
          "text": [
            "Pred: 1 (positive review) , Prob: 0.9770364165306091\n"
          ]
        }
      ]
    },
    {
      "cell_type": "code",
      "source": [
        "pred_and_prob_sentence(review_4)"
      ],
      "metadata": {
        "colab": {
          "base_uri": "https://localhost:8080/"
        },
        "id": "qPD-oGC9iHbm",
        "outputId": "89c798f4-43ed-4985-910b-5841b3551cb8"
      },
      "execution_count": 103,
      "outputs": [
        {
          "output_type": "stream",
          "name": "stdout",
          "text": [
            "Pred: 0 (negative review) , Prob: 0.12354516237974167\n"
          ]
        }
      ]
    },
    {
      "cell_type": "code",
      "source": [
        "pred_and_prob_sentence(review_5)"
      ],
      "metadata": {
        "colab": {
          "base_uri": "https://localhost:8080/"
        },
        "id": "gK1Da3nviJKR",
        "outputId": "0e1e0ee1-8c1e-468b-e344-29b31424a7f0"
      },
      "execution_count": 104,
      "outputs": [
        {
          "output_type": "stream",
          "name": "stdout",
          "text": [
            "Pred: 0 (negative review) , Prob: 0.024100353941321373\n"
          ]
        }
      ]
    },
    {
      "cell_type": "code",
      "source": [
        "pred_and_prob_sentence(review_6)"
      ],
      "metadata": {
        "colab": {
          "base_uri": "https://localhost:8080/"
        },
        "id": "a6dTm0vKiNAp",
        "outputId": "7077bbf6-a5b2-4a03-b5ec-bd297a47451a"
      },
      "execution_count": 105,
      "outputs": [
        {
          "output_type": "stream",
          "name": "stdout",
          "text": [
            "Pred: 0 (negative review) , Prob: 0.012634938582777977\n"
          ]
        }
      ]
    },
    {
      "cell_type": "code",
      "source": [
        ""
      ],
      "metadata": {
        "id": "CiD8caHViRC5"
      },
      "execution_count": null,
      "outputs": []
    }
  ]
}